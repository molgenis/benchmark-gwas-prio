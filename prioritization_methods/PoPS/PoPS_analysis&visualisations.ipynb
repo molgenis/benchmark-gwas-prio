{
 "cells": [
  {
   "cell_type": "code",
   "execution_count": 1,
   "id": "8fb5f298",
   "metadata": {},
   "outputs": [],
   "source": [
    "#Import Libraries\n",
    "\n",
    "import yaml\n",
    "import os\n",
    "import pandas as pd\n",
    "import numpy as np\n",
    "from pathlib import Path\n",
    "from matplotlib_venn import venn2, venn2_circles, venn2_unweighted\n",
    "from matplotlib_venn import venn3, venn3_circles\n",
    "from matplotlib import pyplot as plt\n",
    "%matplotlib inline\n"
   ]
  },
  {
   "cell_type": "code",
   "execution_count": 24,
   "id": "71823b40",
   "metadata": {},
   "outputs": [],
   "source": [
    "def get_config(file):\n",
    "\n",
    "    with open(file, 'r', encoding=\"utf-8\") as stream:\n",
    "        config = yaml.safe_load(stream)\n",
    "\n",
    "    return config\n",
    "\n",
    "config = get_config(\"config.yaml\")"
   ]
  },
  {
   "cell_type": "code",
   "execution_count": 25,
   "id": "f6d90472",
   "metadata": {},
   "outputs": [
    {
     "data": {
      "text/plain": [
       "{'SNP': 'C:\\\\Users\\\\Gebruiker\\\\OneDrive\\\\Documents\\\\DSLS\\\\integrated_omics\\\\project\\\\height\\\\SNP_loc.txt',\n",
       " 'gen_loc': 'C:\\\\Users\\\\Gebruiker\\\\OneDrive\\\\Documents\\\\DSLS\\\\integrated_omics\\\\project\\\\magma\\\\ensgR75_protein_coding.txt',\n",
       " 'HPO': 'C:\\\\Users\\\\Gebruiker\\\\OneDrive\\\\Documents\\\\DSLS\\\\integrated_omics\\\\project\\\\HPO\\\\phenotype_to_genes_V1268_OMIMandORPHA.txt_matrix.txt',\n",
       " 'Height': 'C:\\\\Users\\\\Gebruiker\\\\OneDrive\\\\Documents\\\\DSLS\\\\integrated_omics\\\\project\\\\POPS\\\\new_run_height\\\\output\\\\gene_output_height.preds',\n",
       " 'IBD': 'C:\\\\Users\\\\Gebruiker\\\\OneDrive\\\\Documents\\\\DSLS\\\\integrated_omics\\\\project\\\\POPS\\\\new_run_IBD\\\\output\\\\gene_output_IBD.preds',\n",
       " 'PrC': 'C:\\\\Users\\\\Gebruiker\\\\OneDrive\\\\Documents\\\\DSLS\\\\integrated_omics\\\\project\\\\POPS\\\\new_run_prstcan\\\\gene_output_prstcan.preds'}"
      ]
     },
     "execution_count": 25,
     "metadata": {},
     "output_type": "execute_result"
    }
   ],
   "source": [
    "config"
   ]
  },
  {
   "cell_type": "code",
   "execution_count": 9,
   "id": "48e12546",
   "metadata": {},
   "outputs": [
    {
     "data": {
      "text/plain": [
       "'C:\\\\Users\\\\Gebruiker\\\\OneDrive\\\\Documents\\\\DSLS\\\\integrated_omics\\\\project\\\\HPO\\\\phenotype_to_genes_V1268_OMIMandORPHA.txt_matrix.txt'"
      ]
     },
     "execution_count": 9,
     "metadata": {},
     "output_type": "execute_result"
    }
   ],
   "source": [
    "config['HPO']"
   ]
  },
  {
   "cell_type": "markdown",
   "id": "31422aee",
   "metadata": {},
   "source": [
    "## Load HPO data"
   ]
  },
  {
   "cell_type": "code",
   "execution_count": 10,
   "id": "42609f87",
   "metadata": {},
   "outputs": [],
   "source": [
    "#loading the HPO dataset\n",
    "\n",
    "#making a config file: \n",
    "\n",
    "file = config['HPO']\n",
    "\n",
    "data = pd.read_csv(file, sep=\"\\t\")"
   ]
  },
  {
   "cell_type": "code",
   "execution_count": 11,
   "id": "a8bfb0c0",
   "metadata": {},
   "outputs": [
    {
     "data": {
      "text/html": [
       "<div>\n",
       "<style scoped>\n",
       "    .dataframe tbody tr th:only-of-type {\n",
       "        vertical-align: middle;\n",
       "    }\n",
       "\n",
       "    .dataframe tbody tr th {\n",
       "        vertical-align: top;\n",
       "    }\n",
       "\n",
       "    .dataframe thead th {\n",
       "        text-align: right;\n",
       "    }\n",
       "</style>\n",
       "<table border=\"1\" class=\"dataframe\">\n",
       "  <thead>\n",
       "    <tr style=\"text-align: right;\">\n",
       "      <th></th>\n",
       "      <th>-</th>\n",
       "      <th>HP:0001187</th>\n",
       "      <th>HP:0009902</th>\n",
       "      <th>HP:0025152</th>\n",
       "      <th>HP:0009905</th>\n",
       "      <th>HP:0009904</th>\n",
       "      <th>HP:0001188</th>\n",
       "      <th>HP:0009907</th>\n",
       "      <th>HP:0025158</th>\n",
       "      <th>HP:0001182</th>\n",
       "      <th>...</th>\n",
       "      <th>HP:0000558</th>\n",
       "      <th>HP:0001889</th>\n",
       "      <th>HP:0000553</th>\n",
       "      <th>HP:0001884</th>\n",
       "      <th>HP:0001883</th>\n",
       "      <th>HP:0000552</th>\n",
       "      <th>HP:0000555</th>\n",
       "      <th>HP:0001886</th>\n",
       "      <th>HP:0000554</th>\n",
       "      <th>HP:0001885</th>\n",
       "    </tr>\n",
       "  </thead>\n",
       "  <tbody>\n",
       "    <tr>\n",
       "      <th>0</th>\n",
       "      <td>ENSG00000000003</td>\n",
       "      <td>0.0</td>\n",
       "      <td>0.0</td>\n",
       "      <td>0.0</td>\n",
       "      <td>0.0</td>\n",
       "      <td>0.0</td>\n",
       "      <td>0.0</td>\n",
       "      <td>0.0</td>\n",
       "      <td>0.0</td>\n",
       "      <td>0.0</td>\n",
       "      <td>...</td>\n",
       "      <td>0.0</td>\n",
       "      <td>0.0</td>\n",
       "      <td>0.0</td>\n",
       "      <td>0.0</td>\n",
       "      <td>0.0</td>\n",
       "      <td>0.0</td>\n",
       "      <td>0.0</td>\n",
       "      <td>0.0</td>\n",
       "      <td>0.0</td>\n",
       "      <td>0.0</td>\n",
       "    </tr>\n",
       "    <tr>\n",
       "      <th>1</th>\n",
       "      <td>ENSG00000000005</td>\n",
       "      <td>0.0</td>\n",
       "      <td>0.0</td>\n",
       "      <td>0.0</td>\n",
       "      <td>0.0</td>\n",
       "      <td>0.0</td>\n",
       "      <td>0.0</td>\n",
       "      <td>0.0</td>\n",
       "      <td>0.0</td>\n",
       "      <td>0.0</td>\n",
       "      <td>...</td>\n",
       "      <td>0.0</td>\n",
       "      <td>0.0</td>\n",
       "      <td>0.0</td>\n",
       "      <td>0.0</td>\n",
       "      <td>0.0</td>\n",
       "      <td>0.0</td>\n",
       "      <td>0.0</td>\n",
       "      <td>0.0</td>\n",
       "      <td>0.0</td>\n",
       "      <td>0.0</td>\n",
       "    </tr>\n",
       "    <tr>\n",
       "      <th>2</th>\n",
       "      <td>ENSG00000000419</td>\n",
       "      <td>0.0</td>\n",
       "      <td>0.0</td>\n",
       "      <td>0.0</td>\n",
       "      <td>0.0</td>\n",
       "      <td>0.0</td>\n",
       "      <td>0.0</td>\n",
       "      <td>0.0</td>\n",
       "      <td>0.0</td>\n",
       "      <td>0.0</td>\n",
       "      <td>...</td>\n",
       "      <td>0.0</td>\n",
       "      <td>0.0</td>\n",
       "      <td>0.0</td>\n",
       "      <td>0.0</td>\n",
       "      <td>0.0</td>\n",
       "      <td>0.0</td>\n",
       "      <td>0.0</td>\n",
       "      <td>0.0</td>\n",
       "      <td>0.0</td>\n",
       "      <td>0.0</td>\n",
       "    </tr>\n",
       "    <tr>\n",
       "      <th>3</th>\n",
       "      <td>ENSG00000000457</td>\n",
       "      <td>0.0</td>\n",
       "      <td>0.0</td>\n",
       "      <td>0.0</td>\n",
       "      <td>0.0</td>\n",
       "      <td>0.0</td>\n",
       "      <td>0.0</td>\n",
       "      <td>0.0</td>\n",
       "      <td>0.0</td>\n",
       "      <td>0.0</td>\n",
       "      <td>...</td>\n",
       "      <td>0.0</td>\n",
       "      <td>0.0</td>\n",
       "      <td>0.0</td>\n",
       "      <td>0.0</td>\n",
       "      <td>0.0</td>\n",
       "      <td>0.0</td>\n",
       "      <td>0.0</td>\n",
       "      <td>0.0</td>\n",
       "      <td>0.0</td>\n",
       "      <td>0.0</td>\n",
       "    </tr>\n",
       "    <tr>\n",
       "      <th>4</th>\n",
       "      <td>ENSG00000000460</td>\n",
       "      <td>0.0</td>\n",
       "      <td>0.0</td>\n",
       "      <td>0.0</td>\n",
       "      <td>0.0</td>\n",
       "      <td>0.0</td>\n",
       "      <td>0.0</td>\n",
       "      <td>0.0</td>\n",
       "      <td>0.0</td>\n",
       "      <td>0.0</td>\n",
       "      <td>...</td>\n",
       "      <td>0.0</td>\n",
       "      <td>0.0</td>\n",
       "      <td>0.0</td>\n",
       "      <td>0.0</td>\n",
       "      <td>0.0</td>\n",
       "      <td>0.0</td>\n",
       "      <td>0.0</td>\n",
       "      <td>0.0</td>\n",
       "      <td>0.0</td>\n",
       "      <td>0.0</td>\n",
       "    </tr>\n",
       "    <tr>\n",
       "      <th>...</th>\n",
       "      <td>...</td>\n",
       "      <td>...</td>\n",
       "      <td>...</td>\n",
       "      <td>...</td>\n",
       "      <td>...</td>\n",
       "      <td>...</td>\n",
       "      <td>...</td>\n",
       "      <td>...</td>\n",
       "      <td>...</td>\n",
       "      <td>...</td>\n",
       "      <td>...</td>\n",
       "      <td>...</td>\n",
       "      <td>...</td>\n",
       "      <td>...</td>\n",
       "      <td>...</td>\n",
       "      <td>...</td>\n",
       "      <td>...</td>\n",
       "      <td>...</td>\n",
       "      <td>...</td>\n",
       "      <td>...</td>\n",
       "      <td>...</td>\n",
       "    </tr>\n",
       "    <tr>\n",
       "      <th>56430</th>\n",
       "      <td>ENSG00000283117</td>\n",
       "      <td>0.0</td>\n",
       "      <td>0.0</td>\n",
       "      <td>0.0</td>\n",
       "      <td>0.0</td>\n",
       "      <td>0.0</td>\n",
       "      <td>0.0</td>\n",
       "      <td>0.0</td>\n",
       "      <td>0.0</td>\n",
       "      <td>0.0</td>\n",
       "      <td>...</td>\n",
       "      <td>0.0</td>\n",
       "      <td>0.0</td>\n",
       "      <td>0.0</td>\n",
       "      <td>0.0</td>\n",
       "      <td>0.0</td>\n",
       "      <td>0.0</td>\n",
       "      <td>0.0</td>\n",
       "      <td>0.0</td>\n",
       "      <td>0.0</td>\n",
       "      <td>0.0</td>\n",
       "    </tr>\n",
       "    <tr>\n",
       "      <th>56431</th>\n",
       "      <td>ENSG00000283118</td>\n",
       "      <td>0.0</td>\n",
       "      <td>0.0</td>\n",
       "      <td>0.0</td>\n",
       "      <td>0.0</td>\n",
       "      <td>0.0</td>\n",
       "      <td>0.0</td>\n",
       "      <td>0.0</td>\n",
       "      <td>0.0</td>\n",
       "      <td>0.0</td>\n",
       "      <td>...</td>\n",
       "      <td>0.0</td>\n",
       "      <td>0.0</td>\n",
       "      <td>0.0</td>\n",
       "      <td>0.0</td>\n",
       "      <td>0.0</td>\n",
       "      <td>0.0</td>\n",
       "      <td>0.0</td>\n",
       "      <td>0.0</td>\n",
       "      <td>0.0</td>\n",
       "      <td>0.0</td>\n",
       "    </tr>\n",
       "    <tr>\n",
       "      <th>56432</th>\n",
       "      <td>ENSG00000283122</td>\n",
       "      <td>0.0</td>\n",
       "      <td>0.0</td>\n",
       "      <td>0.0</td>\n",
       "      <td>0.0</td>\n",
       "      <td>0.0</td>\n",
       "      <td>0.0</td>\n",
       "      <td>0.0</td>\n",
       "      <td>0.0</td>\n",
       "      <td>0.0</td>\n",
       "      <td>...</td>\n",
       "      <td>0.0</td>\n",
       "      <td>0.0</td>\n",
       "      <td>0.0</td>\n",
       "      <td>0.0</td>\n",
       "      <td>0.0</td>\n",
       "      <td>0.0</td>\n",
       "      <td>0.0</td>\n",
       "      <td>0.0</td>\n",
       "      <td>0.0</td>\n",
       "      <td>0.0</td>\n",
       "    </tr>\n",
       "    <tr>\n",
       "      <th>56433</th>\n",
       "      <td>ENSG00000283123</td>\n",
       "      <td>0.0</td>\n",
       "      <td>0.0</td>\n",
       "      <td>0.0</td>\n",
       "      <td>0.0</td>\n",
       "      <td>0.0</td>\n",
       "      <td>0.0</td>\n",
       "      <td>0.0</td>\n",
       "      <td>0.0</td>\n",
       "      <td>0.0</td>\n",
       "      <td>...</td>\n",
       "      <td>0.0</td>\n",
       "      <td>0.0</td>\n",
       "      <td>0.0</td>\n",
       "      <td>0.0</td>\n",
       "      <td>0.0</td>\n",
       "      <td>0.0</td>\n",
       "      <td>0.0</td>\n",
       "      <td>0.0</td>\n",
       "      <td>0.0</td>\n",
       "      <td>0.0</td>\n",
       "    </tr>\n",
       "    <tr>\n",
       "      <th>56434</th>\n",
       "      <td>ENSG00000283125</td>\n",
       "      <td>0.0</td>\n",
       "      <td>0.0</td>\n",
       "      <td>0.0</td>\n",
       "      <td>0.0</td>\n",
       "      <td>0.0</td>\n",
       "      <td>0.0</td>\n",
       "      <td>0.0</td>\n",
       "      <td>0.0</td>\n",
       "      <td>0.0</td>\n",
       "      <td>...</td>\n",
       "      <td>0.0</td>\n",
       "      <td>0.0</td>\n",
       "      <td>0.0</td>\n",
       "      <td>0.0</td>\n",
       "      <td>0.0</td>\n",
       "      <td>0.0</td>\n",
       "      <td>0.0</td>\n",
       "      <td>0.0</td>\n",
       "      <td>0.0</td>\n",
       "      <td>0.0</td>\n",
       "    </tr>\n",
       "  </tbody>\n",
       "</table>\n",
       "<p>56435 rows × 8854 columns</p>\n",
       "</div>"
      ],
      "text/plain": [
       "                     -  HP:0001187  HP:0009902  HP:0025152  HP:0009905  \\\n",
       "0      ENSG00000000003         0.0         0.0         0.0         0.0   \n",
       "1      ENSG00000000005         0.0         0.0         0.0         0.0   \n",
       "2      ENSG00000000419         0.0         0.0         0.0         0.0   \n",
       "3      ENSG00000000457         0.0         0.0         0.0         0.0   \n",
       "4      ENSG00000000460         0.0         0.0         0.0         0.0   \n",
       "...                ...         ...         ...         ...         ...   \n",
       "56430  ENSG00000283117         0.0         0.0         0.0         0.0   \n",
       "56431  ENSG00000283118         0.0         0.0         0.0         0.0   \n",
       "56432  ENSG00000283122         0.0         0.0         0.0         0.0   \n",
       "56433  ENSG00000283123         0.0         0.0         0.0         0.0   \n",
       "56434  ENSG00000283125         0.0         0.0         0.0         0.0   \n",
       "\n",
       "       HP:0009904  HP:0001188  HP:0009907  HP:0025158  HP:0001182  ...  \\\n",
       "0             0.0         0.0         0.0         0.0         0.0  ...   \n",
       "1             0.0         0.0         0.0         0.0         0.0  ...   \n",
       "2             0.0         0.0         0.0         0.0         0.0  ...   \n",
       "3             0.0         0.0         0.0         0.0         0.0  ...   \n",
       "4             0.0         0.0         0.0         0.0         0.0  ...   \n",
       "...           ...         ...         ...         ...         ...  ...   \n",
       "56430         0.0         0.0         0.0         0.0         0.0  ...   \n",
       "56431         0.0         0.0         0.0         0.0         0.0  ...   \n",
       "56432         0.0         0.0         0.0         0.0         0.0  ...   \n",
       "56433         0.0         0.0         0.0         0.0         0.0  ...   \n",
       "56434         0.0         0.0         0.0         0.0         0.0  ...   \n",
       "\n",
       "       HP:0000558  HP:0001889  HP:0000553  HP:0001884  HP:0001883  HP:0000552  \\\n",
       "0             0.0         0.0         0.0         0.0         0.0         0.0   \n",
       "1             0.0         0.0         0.0         0.0         0.0         0.0   \n",
       "2             0.0         0.0         0.0         0.0         0.0         0.0   \n",
       "3             0.0         0.0         0.0         0.0         0.0         0.0   \n",
       "4             0.0         0.0         0.0         0.0         0.0         0.0   \n",
       "...           ...         ...         ...         ...         ...         ...   \n",
       "56430         0.0         0.0         0.0         0.0         0.0         0.0   \n",
       "56431         0.0         0.0         0.0         0.0         0.0         0.0   \n",
       "56432         0.0         0.0         0.0         0.0         0.0         0.0   \n",
       "56433         0.0         0.0         0.0         0.0         0.0         0.0   \n",
       "56434         0.0         0.0         0.0         0.0         0.0         0.0   \n",
       "\n",
       "       HP:0000555  HP:0001886  HP:0000554  HP:0001885  \n",
       "0             0.0         0.0         0.0         0.0  \n",
       "1             0.0         0.0         0.0         0.0  \n",
       "2             0.0         0.0         0.0         0.0  \n",
       "3             0.0         0.0         0.0         0.0  \n",
       "4             0.0         0.0         0.0         0.0  \n",
       "...           ...         ...         ...         ...  \n",
       "56430         0.0         0.0         0.0         0.0  \n",
       "56431         0.0         0.0         0.0         0.0  \n",
       "56432         0.0         0.0         0.0         0.0  \n",
       "56433         0.0         0.0         0.0         0.0  \n",
       "56434         0.0         0.0         0.0         0.0  \n",
       "\n",
       "[56435 rows x 8854 columns]"
      ]
     },
     "execution_count": 11,
     "metadata": {},
     "output_type": "execute_result"
    }
   ],
   "source": [
    "data"
   ]
  },
  {
   "cell_type": "code",
   "execution_count": 4,
   "id": "60b1345f",
   "metadata": {},
   "outputs": [],
   "source": [
    "data.set_index('-', inplace=True)"
   ]
  },
  {
   "cell_type": "code",
   "execution_count": 5,
   "id": "00a4b028",
   "metadata": {},
   "outputs": [
    {
     "data": {
      "text/html": [
       "<div>\n",
       "<style scoped>\n",
       "    .dataframe tbody tr th:only-of-type {\n",
       "        vertical-align: middle;\n",
       "    }\n",
       "\n",
       "    .dataframe tbody tr th {\n",
       "        vertical-align: top;\n",
       "    }\n",
       "\n",
       "    .dataframe thead th {\n",
       "        text-align: right;\n",
       "    }\n",
       "</style>\n",
       "<table border=\"1\" class=\"dataframe\">\n",
       "  <thead>\n",
       "    <tr style=\"text-align: right;\">\n",
       "      <th></th>\n",
       "      <th>HP:0001187</th>\n",
       "      <th>HP:0009902</th>\n",
       "      <th>HP:0025152</th>\n",
       "      <th>HP:0009905</th>\n",
       "      <th>HP:0009904</th>\n",
       "      <th>HP:0001188</th>\n",
       "      <th>HP:0009907</th>\n",
       "      <th>HP:0025158</th>\n",
       "      <th>HP:0001182</th>\n",
       "      <th>HP:0009906</th>\n",
       "      <th>...</th>\n",
       "      <th>HP:0000558</th>\n",
       "      <th>HP:0001889</th>\n",
       "      <th>HP:0000553</th>\n",
       "      <th>HP:0001884</th>\n",
       "      <th>HP:0001883</th>\n",
       "      <th>HP:0000552</th>\n",
       "      <th>HP:0000555</th>\n",
       "      <th>HP:0001886</th>\n",
       "      <th>HP:0000554</th>\n",
       "      <th>HP:0001885</th>\n",
       "    </tr>\n",
       "    <tr>\n",
       "      <th>-</th>\n",
       "      <th></th>\n",
       "      <th></th>\n",
       "      <th></th>\n",
       "      <th></th>\n",
       "      <th></th>\n",
       "      <th></th>\n",
       "      <th></th>\n",
       "      <th></th>\n",
       "      <th></th>\n",
       "      <th></th>\n",
       "      <th></th>\n",
       "      <th></th>\n",
       "      <th></th>\n",
       "      <th></th>\n",
       "      <th></th>\n",
       "      <th></th>\n",
       "      <th></th>\n",
       "      <th></th>\n",
       "      <th></th>\n",
       "      <th></th>\n",
       "      <th></th>\n",
       "    </tr>\n",
       "  </thead>\n",
       "  <tbody>\n",
       "    <tr>\n",
       "      <th>ENSG00000000003</th>\n",
       "      <td>0.0</td>\n",
       "      <td>0.0</td>\n",
       "      <td>0.0</td>\n",
       "      <td>0.0</td>\n",
       "      <td>0.0</td>\n",
       "      <td>0.0</td>\n",
       "      <td>0.0</td>\n",
       "      <td>0.0</td>\n",
       "      <td>0.0</td>\n",
       "      <td>0.0</td>\n",
       "      <td>...</td>\n",
       "      <td>0.0</td>\n",
       "      <td>0.0</td>\n",
       "      <td>0.0</td>\n",
       "      <td>0.0</td>\n",
       "      <td>0.0</td>\n",
       "      <td>0.0</td>\n",
       "      <td>0.0</td>\n",
       "      <td>0.0</td>\n",
       "      <td>0.0</td>\n",
       "      <td>0.0</td>\n",
       "    </tr>\n",
       "    <tr>\n",
       "      <th>ENSG00000000005</th>\n",
       "      <td>0.0</td>\n",
       "      <td>0.0</td>\n",
       "      <td>0.0</td>\n",
       "      <td>0.0</td>\n",
       "      <td>0.0</td>\n",
       "      <td>0.0</td>\n",
       "      <td>0.0</td>\n",
       "      <td>0.0</td>\n",
       "      <td>0.0</td>\n",
       "      <td>0.0</td>\n",
       "      <td>...</td>\n",
       "      <td>0.0</td>\n",
       "      <td>0.0</td>\n",
       "      <td>0.0</td>\n",
       "      <td>0.0</td>\n",
       "      <td>0.0</td>\n",
       "      <td>0.0</td>\n",
       "      <td>0.0</td>\n",
       "      <td>0.0</td>\n",
       "      <td>0.0</td>\n",
       "      <td>0.0</td>\n",
       "    </tr>\n",
       "    <tr>\n",
       "      <th>ENSG00000000419</th>\n",
       "      <td>0.0</td>\n",
       "      <td>0.0</td>\n",
       "      <td>0.0</td>\n",
       "      <td>0.0</td>\n",
       "      <td>0.0</td>\n",
       "      <td>0.0</td>\n",
       "      <td>0.0</td>\n",
       "      <td>0.0</td>\n",
       "      <td>0.0</td>\n",
       "      <td>0.0</td>\n",
       "      <td>...</td>\n",
       "      <td>0.0</td>\n",
       "      <td>0.0</td>\n",
       "      <td>0.0</td>\n",
       "      <td>0.0</td>\n",
       "      <td>0.0</td>\n",
       "      <td>0.0</td>\n",
       "      <td>0.0</td>\n",
       "      <td>0.0</td>\n",
       "      <td>0.0</td>\n",
       "      <td>0.0</td>\n",
       "    </tr>\n",
       "    <tr>\n",
       "      <th>ENSG00000000457</th>\n",
       "      <td>0.0</td>\n",
       "      <td>0.0</td>\n",
       "      <td>0.0</td>\n",
       "      <td>0.0</td>\n",
       "      <td>0.0</td>\n",
       "      <td>0.0</td>\n",
       "      <td>0.0</td>\n",
       "      <td>0.0</td>\n",
       "      <td>0.0</td>\n",
       "      <td>0.0</td>\n",
       "      <td>...</td>\n",
       "      <td>0.0</td>\n",
       "      <td>0.0</td>\n",
       "      <td>0.0</td>\n",
       "      <td>0.0</td>\n",
       "      <td>0.0</td>\n",
       "      <td>0.0</td>\n",
       "      <td>0.0</td>\n",
       "      <td>0.0</td>\n",
       "      <td>0.0</td>\n",
       "      <td>0.0</td>\n",
       "    </tr>\n",
       "    <tr>\n",
       "      <th>ENSG00000000460</th>\n",
       "      <td>0.0</td>\n",
       "      <td>0.0</td>\n",
       "      <td>0.0</td>\n",
       "      <td>0.0</td>\n",
       "      <td>0.0</td>\n",
       "      <td>0.0</td>\n",
       "      <td>0.0</td>\n",
       "      <td>0.0</td>\n",
       "      <td>0.0</td>\n",
       "      <td>0.0</td>\n",
       "      <td>...</td>\n",
       "      <td>0.0</td>\n",
       "      <td>0.0</td>\n",
       "      <td>0.0</td>\n",
       "      <td>0.0</td>\n",
       "      <td>0.0</td>\n",
       "      <td>0.0</td>\n",
       "      <td>0.0</td>\n",
       "      <td>0.0</td>\n",
       "      <td>0.0</td>\n",
       "      <td>0.0</td>\n",
       "    </tr>\n",
       "  </tbody>\n",
       "</table>\n",
       "<p>5 rows × 8853 columns</p>\n",
       "</div>"
      ],
      "text/plain": [
       "                 HP:0001187  HP:0009902  HP:0025152  HP:0009905  HP:0009904  \\\n",
       "-                                                                             \n",
       "ENSG00000000003         0.0         0.0         0.0         0.0         0.0   \n",
       "ENSG00000000005         0.0         0.0         0.0         0.0         0.0   \n",
       "ENSG00000000419         0.0         0.0         0.0         0.0         0.0   \n",
       "ENSG00000000457         0.0         0.0         0.0         0.0         0.0   \n",
       "ENSG00000000460         0.0         0.0         0.0         0.0         0.0   \n",
       "\n",
       "                 HP:0001188  HP:0009907  HP:0025158  HP:0001182  HP:0009906  \\\n",
       "-                                                                             \n",
       "ENSG00000000003         0.0         0.0         0.0         0.0         0.0   \n",
       "ENSG00000000005         0.0         0.0         0.0         0.0         0.0   \n",
       "ENSG00000000419         0.0         0.0         0.0         0.0         0.0   \n",
       "ENSG00000000457         0.0         0.0         0.0         0.0         0.0   \n",
       "ENSG00000000460         0.0         0.0         0.0         0.0         0.0   \n",
       "\n",
       "                 ...  HP:0000558  HP:0001889  HP:0000553  HP:0001884  \\\n",
       "-                ...                                                   \n",
       "ENSG00000000003  ...         0.0         0.0         0.0         0.0   \n",
       "ENSG00000000005  ...         0.0         0.0         0.0         0.0   \n",
       "ENSG00000000419  ...         0.0         0.0         0.0         0.0   \n",
       "ENSG00000000457  ...         0.0         0.0         0.0         0.0   \n",
       "ENSG00000000460  ...         0.0         0.0         0.0         0.0   \n",
       "\n",
       "                 HP:0001883  HP:0000552  HP:0000555  HP:0001886  HP:0000554  \\\n",
       "-                                                                             \n",
       "ENSG00000000003         0.0         0.0         0.0         0.0         0.0   \n",
       "ENSG00000000005         0.0         0.0         0.0         0.0         0.0   \n",
       "ENSG00000000419         0.0         0.0         0.0         0.0         0.0   \n",
       "ENSG00000000457         0.0         0.0         0.0         0.0         0.0   \n",
       "ENSG00000000460         0.0         0.0         0.0         0.0         0.0   \n",
       "\n",
       "                 HP:0001885  \n",
       "-                            \n",
       "ENSG00000000003         0.0  \n",
       "ENSG00000000005         0.0  \n",
       "ENSG00000000419         0.0  \n",
       "ENSG00000000457         0.0  \n",
       "ENSG00000000460         0.0  \n",
       "\n",
       "[5 rows x 8853 columns]"
      ]
     },
     "execution_count": 5,
     "metadata": {},
     "output_type": "execute_result"
    }
   ],
   "source": [
    "data.head(5)"
   ]
  },
  {
   "cell_type": "code",
   "execution_count": 6,
   "id": "432a7669",
   "metadata": {},
   "outputs": [
    {
     "data": {
      "text/plain": [
       "Index(['ENSG00000000003', 'ENSG00000000005', 'ENSG00000000419',\n",
       "       'ENSG00000000457', 'ENSG00000000460', 'ENSG00000000938',\n",
       "       'ENSG00000000971', 'ENSG00000001036', 'ENSG00000001084',\n",
       "       'ENSG00000001167',\n",
       "       ...\n",
       "       'ENSG00000283096', 'ENSG00000283098', 'ENSG00000283101',\n",
       "       'ENSG00000283103', 'ENSG00000283108', 'ENSG00000283117',\n",
       "       'ENSG00000283118', 'ENSG00000283122', 'ENSG00000283123',\n",
       "       'ENSG00000283125'],\n",
       "      dtype='object', name='-', length=56435)"
      ]
     },
     "execution_count": 6,
     "metadata": {},
     "output_type": "execute_result"
    }
   ],
   "source": [
    "hpo_genes = data.index\n",
    "hpo_genes"
   ]
  },
  {
   "cell_type": "markdown",
   "id": "59c0157c",
   "metadata": {},
   "source": [
    "## Load Height dataset from new_run"
   ]
  },
  {
   "cell_type": "code",
   "execution_count": 14,
   "id": "823a38b0",
   "metadata": {},
   "outputs": [
    {
     "data": {
      "text/plain": [
       "'C:\\\\Users\\\\Gebruiker\\\\OneDrive\\\\Documents\\\\DSLS\\\\integrated_omics\\\\project\\\\POPS\\\\new_run_height\\\\output\\\\gene_output_height.preds'"
      ]
     },
     "execution_count": 14,
     "metadata": {},
     "output_type": "execute_result"
    }
   ],
   "source": [
    "config['Height']"
   ]
  },
  {
   "cell_type": "code",
   "execution_count": 15,
   "id": "8b489d12",
   "metadata": {},
   "outputs": [],
   "source": [
    "#making a config file: \n",
    "\n",
    "file = config['Height']\n",
    "\n",
    "my_list = pd.read_csv(file, sep=\"\\t\")"
   ]
  },
  {
   "cell_type": "code",
   "execution_count": 16,
   "id": "01103f43",
   "metadata": {},
   "outputs": [
    {
     "data": {
      "text/html": [
       "<div>\n",
       "<style scoped>\n",
       "    .dataframe tbody tr th:only-of-type {\n",
       "        vertical-align: middle;\n",
       "    }\n",
       "\n",
       "    .dataframe tbody tr th {\n",
       "        vertical-align: top;\n",
       "    }\n",
       "\n",
       "    .dataframe thead th {\n",
       "        text-align: right;\n",
       "    }\n",
       "</style>\n",
       "<table border=\"1\" class=\"dataframe\">\n",
       "  <thead>\n",
       "    <tr style=\"text-align: right;\">\n",
       "      <th></th>\n",
       "      <th>ENSGID</th>\n",
       "      <th>PoPS_Score</th>\n",
       "      <th>Y</th>\n",
       "      <th>Y_proj</th>\n",
       "      <th>project_out_covariates_gene</th>\n",
       "      <th>feature_selection_gene</th>\n",
       "      <th>training_gene</th>\n",
       "    </tr>\n",
       "  </thead>\n",
       "  <tbody>\n",
       "    <tr>\n",
       "      <th>0</th>\n",
       "      <td>ENSG00000186092</td>\n",
       "      <td>-0.660061</td>\n",
       "      <td>NaN</td>\n",
       "      <td>NaN</td>\n",
       "      <td>False</td>\n",
       "      <td>False</td>\n",
       "      <td>False</td>\n",
       "    </tr>\n",
       "    <tr>\n",
       "      <th>1</th>\n",
       "      <td>ENSG00000235249</td>\n",
       "      <td>-0.657422</td>\n",
       "      <td>NaN</td>\n",
       "      <td>NaN</td>\n",
       "      <td>False</td>\n",
       "      <td>False</td>\n",
       "      <td>False</td>\n",
       "    </tr>\n",
       "    <tr>\n",
       "      <th>2</th>\n",
       "      <td>ENSG00000185097</td>\n",
       "      <td>-0.653048</td>\n",
       "      <td>NaN</td>\n",
       "      <td>NaN</td>\n",
       "      <td>False</td>\n",
       "      <td>False</td>\n",
       "      <td>False</td>\n",
       "    </tr>\n",
       "    <tr>\n",
       "      <th>3</th>\n",
       "      <td>ENSG00000187634</td>\n",
       "      <td>0.596396</td>\n",
       "      <td>NaN</td>\n",
       "      <td>NaN</td>\n",
       "      <td>False</td>\n",
       "      <td>False</td>\n",
       "      <td>False</td>\n",
       "    </tr>\n",
       "    <tr>\n",
       "      <th>4</th>\n",
       "      <td>ENSG00000188976</td>\n",
       "      <td>0.278404</td>\n",
       "      <td>NaN</td>\n",
       "      <td>NaN</td>\n",
       "      <td>False</td>\n",
       "      <td>False</td>\n",
       "      <td>False</td>\n",
       "    </tr>\n",
       "    <tr>\n",
       "      <th>...</th>\n",
       "      <td>...</td>\n",
       "      <td>...</td>\n",
       "      <td>...</td>\n",
       "      <td>...</td>\n",
       "      <td>...</td>\n",
       "      <td>...</td>\n",
       "      <td>...</td>\n",
       "    </tr>\n",
       "    <tr>\n",
       "      <th>18378</th>\n",
       "      <td>ENSG00000165724</td>\n",
       "      <td>0.234746</td>\n",
       "      <td>0.90812</td>\n",
       "      <td>-1.609128</td>\n",
       "      <td>True</td>\n",
       "      <td>True</td>\n",
       "      <td>True</td>\n",
       "    </tr>\n",
       "    <tr>\n",
       "      <th>18379</th>\n",
       "      <td>ENSG00000197070</td>\n",
       "      <td>0.496823</td>\n",
       "      <td>-0.49512</td>\n",
       "      <td>-2.704159</td>\n",
       "      <td>True</td>\n",
       "      <td>True</td>\n",
       "      <td>True</td>\n",
       "    </tr>\n",
       "    <tr>\n",
       "      <th>18380</th>\n",
       "      <td>ENSG00000203993</td>\n",
       "      <td>0.183933</td>\n",
       "      <td>0.58284</td>\n",
       "      <td>-1.448793</td>\n",
       "      <td>True</td>\n",
       "      <td>True</td>\n",
       "      <td>True</td>\n",
       "    </tr>\n",
       "    <tr>\n",
       "      <th>18381</th>\n",
       "      <td>ENSG00000181090</td>\n",
       "      <td>0.715844</td>\n",
       "      <td>1.81330</td>\n",
       "      <td>-1.488304</td>\n",
       "      <td>True</td>\n",
       "      <td>True</td>\n",
       "      <td>True</td>\n",
       "    </tr>\n",
       "    <tr>\n",
       "      <th>18382</th>\n",
       "      <td>ENSG00000148408</td>\n",
       "      <td>-0.868507</td>\n",
       "      <td>0.54932</td>\n",
       "      <td>-2.602481</td>\n",
       "      <td>True</td>\n",
       "      <td>True</td>\n",
       "      <td>True</td>\n",
       "    </tr>\n",
       "  </tbody>\n",
       "</table>\n",
       "<p>18383 rows × 7 columns</p>\n",
       "</div>"
      ],
      "text/plain": [
       "                ENSGID  PoPS_Score        Y    Y_proj  \\\n",
       "0      ENSG00000186092   -0.660061      NaN       NaN   \n",
       "1      ENSG00000235249   -0.657422      NaN       NaN   \n",
       "2      ENSG00000185097   -0.653048      NaN       NaN   \n",
       "3      ENSG00000187634    0.596396      NaN       NaN   \n",
       "4      ENSG00000188976    0.278404      NaN       NaN   \n",
       "...                ...         ...      ...       ...   \n",
       "18378  ENSG00000165724    0.234746  0.90812 -1.609128   \n",
       "18379  ENSG00000197070    0.496823 -0.49512 -2.704159   \n",
       "18380  ENSG00000203993    0.183933  0.58284 -1.448793   \n",
       "18381  ENSG00000181090    0.715844  1.81330 -1.488304   \n",
       "18382  ENSG00000148408   -0.868507  0.54932 -2.602481   \n",
       "\n",
       "       project_out_covariates_gene  feature_selection_gene  training_gene  \n",
       "0                            False                   False          False  \n",
       "1                            False                   False          False  \n",
       "2                            False                   False          False  \n",
       "3                            False                   False          False  \n",
       "4                            False                   False          False  \n",
       "...                            ...                     ...            ...  \n",
       "18378                         True                    True           True  \n",
       "18379                         True                    True           True  \n",
       "18380                         True                    True           True  \n",
       "18381                         True                    True           True  \n",
       "18382                         True                    True           True  \n",
       "\n",
       "[18383 rows x 7 columns]"
      ]
     },
     "execution_count": 16,
     "metadata": {},
     "output_type": "execute_result"
    }
   ],
   "source": [
    "my_list"
   ]
  },
  {
   "cell_type": "code",
   "execution_count": 8,
   "id": "21a8dc42",
   "metadata": {},
   "outputs": [],
   "source": [
    "pops_height = my_list.sort_values(by = 'PoPS_Score', ascending = False)"
   ]
  },
  {
   "cell_type": "code",
   "execution_count": 9,
   "id": "a98f7bd4",
   "metadata": {},
   "outputs": [
    {
     "data": {
      "text/html": [
       "<div>\n",
       "<style scoped>\n",
       "    .dataframe tbody tr th:only-of-type {\n",
       "        vertical-align: middle;\n",
       "    }\n",
       "\n",
       "    .dataframe tbody tr th {\n",
       "        vertical-align: top;\n",
       "    }\n",
       "\n",
       "    .dataframe thead th {\n",
       "        text-align: right;\n",
       "    }\n",
       "</style>\n",
       "<table border=\"1\" class=\"dataframe\">\n",
       "  <thead>\n",
       "    <tr style=\"text-align: right;\">\n",
       "      <th></th>\n",
       "      <th>ENSGID</th>\n",
       "      <th>PoPS_Score</th>\n",
       "      <th>Y</th>\n",
       "      <th>Y_proj</th>\n",
       "      <th>project_out_covariates_gene</th>\n",
       "      <th>feature_selection_gene</th>\n",
       "      <th>training_gene</th>\n",
       "    </tr>\n",
       "  </thead>\n",
       "  <tbody>\n",
       "    <tr>\n",
       "      <th>4305</th>\n",
       "      <td>ENSG00000139219</td>\n",
       "      <td>4.637700</td>\n",
       "      <td>6.98730</td>\n",
       "      <td>3.756305</td>\n",
       "      <td>True</td>\n",
       "      <td>True</td>\n",
       "      <td>True</td>\n",
       "    </tr>\n",
       "    <tr>\n",
       "      <th>16513</th>\n",
       "      <td>ENSG00000164692</td>\n",
       "      <td>4.268547</td>\n",
       "      <td>7.63150</td>\n",
       "      <td>4.352896</td>\n",
       "      <td>True</td>\n",
       "      <td>True</td>\n",
       "      <td>True</td>\n",
       "    </tr>\n",
       "    <tr>\n",
       "      <th>16708</th>\n",
       "      <td>ENSG00000106034</td>\n",
       "      <td>4.206589</td>\n",
       "      <td>9.03960</td>\n",
       "      <td>5.409813</td>\n",
       "      <td>True</td>\n",
       "      <td>True</td>\n",
       "      <td>True</td>\n",
       "    </tr>\n",
       "    <tr>\n",
       "      <th>12797</th>\n",
       "      <td>ENSG00000114737</td>\n",
       "      <td>3.964449</td>\n",
       "      <td>14.93300</td>\n",
       "      <td>13.032016</td>\n",
       "      <td>True</td>\n",
       "      <td>True</td>\n",
       "      <td>True</td>\n",
       "    </tr>\n",
       "    <tr>\n",
       "      <th>4589</th>\n",
       "      <td>ENSG00000156076</td>\n",
       "      <td>3.833405</td>\n",
       "      <td>7.33790</td>\n",
       "      <td>4.209473</td>\n",
       "      <td>True</td>\n",
       "      <td>True</td>\n",
       "      <td>True</td>\n",
       "    </tr>\n",
       "    <tr>\n",
       "      <th>...</th>\n",
       "      <td>...</td>\n",
       "      <td>...</td>\n",
       "      <td>...</td>\n",
       "      <td>...</td>\n",
       "      <td>...</td>\n",
       "      <td>...</td>\n",
       "      <td>...</td>\n",
       "    </tr>\n",
       "    <tr>\n",
       "      <th>5898</th>\n",
       "      <td>ENSG00000257341</td>\n",
       "      <td>-3.160369</td>\n",
       "      <td>NaN</td>\n",
       "      <td>NaN</td>\n",
       "      <td>False</td>\n",
       "      <td>False</td>\n",
       "      <td>False</td>\n",
       "    </tr>\n",
       "    <tr>\n",
       "      <th>13826</th>\n",
       "      <td>ENSG00000109321</td>\n",
       "      <td>-3.311218</td>\n",
       "      <td>NaN</td>\n",
       "      <td>NaN</td>\n",
       "      <td>False</td>\n",
       "      <td>False</td>\n",
       "      <td>False</td>\n",
       "    </tr>\n",
       "    <tr>\n",
       "      <th>14542</th>\n",
       "      <td>ENSG00000175471</td>\n",
       "      <td>-3.374620</td>\n",
       "      <td>-0.75233</td>\n",
       "      <td>-4.581886</td>\n",
       "      <td>True</td>\n",
       "      <td>True</td>\n",
       "      <td>True</td>\n",
       "    </tr>\n",
       "    <tr>\n",
       "      <th>9414</th>\n",
       "      <td>ENSG00000167641</td>\n",
       "      <td>-3.531422</td>\n",
       "      <td>-0.35846</td>\n",
       "      <td>-1.863294</td>\n",
       "      <td>True</td>\n",
       "      <td>True</td>\n",
       "      <td>True</td>\n",
       "    </tr>\n",
       "    <tr>\n",
       "      <th>5897</th>\n",
       "      <td>ENSG00000213145</td>\n",
       "      <td>-3.535402</td>\n",
       "      <td>NaN</td>\n",
       "      <td>NaN</td>\n",
       "      <td>False</td>\n",
       "      <td>False</td>\n",
       "      <td>False</td>\n",
       "    </tr>\n",
       "  </tbody>\n",
       "</table>\n",
       "<p>18383 rows × 7 columns</p>\n",
       "</div>"
      ],
      "text/plain": [
       "                ENSGID  PoPS_Score         Y     Y_proj  \\\n",
       "4305   ENSG00000139219    4.637700   6.98730   3.756305   \n",
       "16513  ENSG00000164692    4.268547   7.63150   4.352896   \n",
       "16708  ENSG00000106034    4.206589   9.03960   5.409813   \n",
       "12797  ENSG00000114737    3.964449  14.93300  13.032016   \n",
       "4589   ENSG00000156076    3.833405   7.33790   4.209473   \n",
       "...                ...         ...       ...        ...   \n",
       "5898   ENSG00000257341   -3.160369       NaN        NaN   \n",
       "13826  ENSG00000109321   -3.311218       NaN        NaN   \n",
       "14542  ENSG00000175471   -3.374620  -0.75233  -4.581886   \n",
       "9414   ENSG00000167641   -3.531422  -0.35846  -1.863294   \n",
       "5897   ENSG00000213145   -3.535402       NaN        NaN   \n",
       "\n",
       "       project_out_covariates_gene  feature_selection_gene  training_gene  \n",
       "4305                          True                    True           True  \n",
       "16513                         True                    True           True  \n",
       "16708                         True                    True           True  \n",
       "12797                         True                    True           True  \n",
       "4589                          True                    True           True  \n",
       "...                            ...                     ...            ...  \n",
       "5898                         False                   False          False  \n",
       "13826                        False                   False          False  \n",
       "14542                         True                    True           True  \n",
       "9414                          True                    True           True  \n",
       "5897                         False                   False          False  \n",
       "\n",
       "[18383 rows x 7 columns]"
      ]
     },
     "execution_count": 9,
     "metadata": {},
     "output_type": "execute_result"
    }
   ],
   "source": [
    "pops_height"
   ]
  },
  {
   "cell_type": "code",
   "execution_count": 10,
   "id": "390e89fe",
   "metadata": {},
   "outputs": [
    {
     "data": {
      "text/plain": [
       "array(['ENSG00000139219', 'ENSG00000164692', 'ENSG00000106034', ...,\n",
       "       'ENSG00000175471', 'ENSG00000167641', 'ENSG00000213145'],\n",
       "      dtype=object)"
      ]
     },
     "execution_count": 10,
     "metadata": {},
     "output_type": "execute_result"
    }
   ],
   "source": [
    "pops_height_ids = pops_height.ENSGID.values\n",
    "pops_height_ids"
   ]
  },
  {
   "cell_type": "code",
   "execution_count": 11,
   "id": "a56ffb7d",
   "metadata": {},
   "outputs": [
    {
     "data": {
      "text/plain": [
       "18383"
      ]
     },
     "execution_count": 11,
     "metadata": {},
     "output_type": "execute_result"
    }
   ],
   "source": [
    "pops_height.ENSGID.nunique()"
   ]
  },
  {
   "cell_type": "markdown",
   "id": "0302cf21",
   "metadata": {},
   "source": [
    "## Genes Overlapping pops and HPO for height"
   ]
  },
  {
   "cell_type": "code",
   "execution_count": 12,
   "id": "9a769fa8",
   "metadata": {},
   "outputs": [],
   "source": [
    "overlapping_genes_data = data[data.index.isin(pops_height_ids)]\n"
   ]
  },
  {
   "cell_type": "code",
   "execution_count": 13,
   "id": "478f69a5",
   "metadata": {},
   "outputs": [
    {
     "name": "stdout",
     "output_type": "stream",
     "text": [
      "Number of overlapping genes: 18029\n"
     ]
    }
   ],
   "source": [
    "overlapping_genes_data = data[data.index.isin(pops_height_ids)]\n",
    "#print(overlapping_genes.index)\n",
    "overlapping_genes = overlapping_genes_data.index\n",
    "total_overlap = overlapping_genes.shape[0]\n",
    "print(f\"Number of overlapping genes: {total_overlap}\")"
   ]
  },
  {
   "cell_type": "markdown",
   "id": "b9a620b4",
   "metadata": {},
   "source": [
    "## Take the Significant genes from pops"
   ]
  },
  {
   "cell_type": "code",
   "execution_count": 14,
   "id": "b0e02172",
   "metadata": {},
   "outputs": [
    {
     "data": {
      "text/html": [
       "<div>\n",
       "<style scoped>\n",
       "    .dataframe tbody tr th:only-of-type {\n",
       "        vertical-align: middle;\n",
       "    }\n",
       "\n",
       "    .dataframe tbody tr th {\n",
       "        vertical-align: top;\n",
       "    }\n",
       "\n",
       "    .dataframe thead th {\n",
       "        text-align: right;\n",
       "    }\n",
       "</style>\n",
       "<table border=\"1\" class=\"dataframe\">\n",
       "  <thead>\n",
       "    <tr style=\"text-align: right;\">\n",
       "      <th></th>\n",
       "      <th>ENSGID</th>\n",
       "      <th>PoPS_Score</th>\n",
       "      <th>Y</th>\n",
       "      <th>Y_proj</th>\n",
       "      <th>project_out_covariates_gene</th>\n",
       "      <th>feature_selection_gene</th>\n",
       "      <th>training_gene</th>\n",
       "    </tr>\n",
       "  </thead>\n",
       "  <tbody>\n",
       "    <tr>\n",
       "      <th>4305</th>\n",
       "      <td>ENSG00000139219</td>\n",
       "      <td>4.637700</td>\n",
       "      <td>6.9873</td>\n",
       "      <td>3.756305</td>\n",
       "      <td>True</td>\n",
       "      <td>True</td>\n",
       "      <td>True</td>\n",
       "    </tr>\n",
       "    <tr>\n",
       "      <th>16513</th>\n",
       "      <td>ENSG00000164692</td>\n",
       "      <td>4.268547</td>\n",
       "      <td>7.6315</td>\n",
       "      <td>4.352896</td>\n",
       "      <td>True</td>\n",
       "      <td>True</td>\n",
       "      <td>True</td>\n",
       "    </tr>\n",
       "    <tr>\n",
       "      <th>16708</th>\n",
       "      <td>ENSG00000106034</td>\n",
       "      <td>4.206589</td>\n",
       "      <td>9.0396</td>\n",
       "      <td>5.409813</td>\n",
       "      <td>True</td>\n",
       "      <td>True</td>\n",
       "      <td>True</td>\n",
       "    </tr>\n",
       "    <tr>\n",
       "      <th>12797</th>\n",
       "      <td>ENSG00000114737</td>\n",
       "      <td>3.964449</td>\n",
       "      <td>14.9330</td>\n",
       "      <td>13.032016</td>\n",
       "      <td>True</td>\n",
       "      <td>True</td>\n",
       "      <td>True</td>\n",
       "    </tr>\n",
       "    <tr>\n",
       "      <th>4589</th>\n",
       "      <td>ENSG00000156076</td>\n",
       "      <td>3.833405</td>\n",
       "      <td>7.3379</td>\n",
       "      <td>4.209473</td>\n",
       "      <td>True</td>\n",
       "      <td>True</td>\n",
       "      <td>True</td>\n",
       "    </tr>\n",
       "    <tr>\n",
       "      <th>14654</th>\n",
       "      <td>ENSG00000125347</td>\n",
       "      <td>3.712567</td>\n",
       "      <td>7.1695</td>\n",
       "      <td>4.398465</td>\n",
       "      <td>True</td>\n",
       "      <td>True</td>\n",
       "      <td>True</td>\n",
       "    </tr>\n",
       "    <tr>\n",
       "      <th>11057</th>\n",
       "      <td>ENSG00000115457</td>\n",
       "      <td>3.699302</td>\n",
       "      <td>5.2421</td>\n",
       "      <td>2.939381</td>\n",
       "      <td>True</td>\n",
       "      <td>True</td>\n",
       "      <td>True</td>\n",
       "    </tr>\n",
       "    <tr>\n",
       "      <th>14635</th>\n",
       "      <td>ENSG00000138829</td>\n",
       "      <td>3.576322</td>\n",
       "      <td>8.1675</td>\n",
       "      <td>4.659276</td>\n",
       "      <td>True</td>\n",
       "      <td>True</td>\n",
       "      <td>True</td>\n",
       "    </tr>\n",
       "    <tr>\n",
       "      <th>10244</th>\n",
       "      <td>ENSG00000049323</td>\n",
       "      <td>3.431869</td>\n",
       "      <td>10.3670</td>\n",
       "      <td>6.492244</td>\n",
       "      <td>True</td>\n",
       "      <td>True</td>\n",
       "      <td>True</td>\n",
       "    </tr>\n",
       "    <tr>\n",
       "      <th>17958</th>\n",
       "      <td>ENSG00000148120</td>\n",
       "      <td>3.419572</td>\n",
       "      <td>7.8626</td>\n",
       "      <td>4.606701</td>\n",
       "      <td>True</td>\n",
       "      <td>True</td>\n",
       "      <td>True</td>\n",
       "    </tr>\n",
       "    <tr>\n",
       "      <th>10911</th>\n",
       "      <td>ENSG00000162998</td>\n",
       "      <td>3.402432</td>\n",
       "      <td>6.3531</td>\n",
       "      <td>3.218440</td>\n",
       "      <td>True</td>\n",
       "      <td>True</td>\n",
       "      <td>True</td>\n",
       "    </tr>\n",
       "    <tr>\n",
       "      <th>4759</th>\n",
       "      <td>ENSG00000235162</td>\n",
       "      <td>3.351985</td>\n",
       "      <td>4.9836</td>\n",
       "      <td>1.362221</td>\n",
       "      <td>True</td>\n",
       "      <td>True</td>\n",
       "      <td>True</td>\n",
       "    </tr>\n",
       "    <tr>\n",
       "      <th>18083</th>\n",
       "      <td>ENSG00000196739</td>\n",
       "      <td>3.266913</td>\n",
       "      <td>9.1047</td>\n",
       "      <td>5.324260</td>\n",
       "      <td>True</td>\n",
       "      <td>True</td>\n",
       "      <td>True</td>\n",
       "    </tr>\n",
       "    <tr>\n",
       "      <th>1448</th>\n",
       "      <td>ENSG00000162733</td>\n",
       "      <td>3.247120</td>\n",
       "      <td>6.6683</td>\n",
       "      <td>3.451868</td>\n",
       "      <td>True</td>\n",
       "      <td>True</td>\n",
       "      <td>True</td>\n",
       "    </tr>\n",
       "    <tr>\n",
       "      <th>14925</th>\n",
       "      <td>ENSG00000164330</td>\n",
       "      <td>3.224242</td>\n",
       "      <td>6.8143</td>\n",
       "      <td>3.157744</td>\n",
       "      <td>True</td>\n",
       "      <td>True</td>\n",
       "      <td>True</td>\n",
       "    </tr>\n",
       "    <tr>\n",
       "      <th>1302</th>\n",
       "      <td>ENSG00000160789</td>\n",
       "      <td>3.163376</td>\n",
       "      <td>7.2289</td>\n",
       "      <td>4.370659</td>\n",
       "      <td>True</td>\n",
       "      <td>True</td>\n",
       "      <td>True</td>\n",
       "    </tr>\n",
       "    <tr>\n",
       "      <th>12965</th>\n",
       "      <td>ENSG00000144810</td>\n",
       "      <td>3.124461</td>\n",
       "      <td>7.5410</td>\n",
       "      <td>4.125385</td>\n",
       "      <td>True</td>\n",
       "      <td>True</td>\n",
       "      <td>True</td>\n",
       "    </tr>\n",
       "    <tr>\n",
       "      <th>2801</th>\n",
       "      <td>ENSG00000167244</td>\n",
       "      <td>3.122063</td>\n",
       "      <td>6.3965</td>\n",
       "      <td>3.411761</td>\n",
       "      <td>True</td>\n",
       "      <td>True</td>\n",
       "      <td>True</td>\n",
       "    </tr>\n",
       "    <tr>\n",
       "      <th>2235</th>\n",
       "      <td>ENSG00000185532</td>\n",
       "      <td>3.061667</td>\n",
       "      <td>10.9990</td>\n",
       "      <td>6.749403</td>\n",
       "      <td>True</td>\n",
       "      <td>True</td>\n",
       "      <td>True</td>\n",
       "    </tr>\n",
       "    <tr>\n",
       "      <th>1499</th>\n",
       "      <td>ENSG00000116132</td>\n",
       "      <td>2.967788</td>\n",
       "      <td>7.4783</td>\n",
       "      <td>4.291300</td>\n",
       "      <td>True</td>\n",
       "      <td>True</td>\n",
       "      <td>True</td>\n",
       "    </tr>\n",
       "    <tr>\n",
       "      <th>11721</th>\n",
       "      <td>ENSG00000087460</td>\n",
       "      <td>2.930791</td>\n",
       "      <td>7.7866</td>\n",
       "      <td>4.474650</td>\n",
       "      <td>True</td>\n",
       "      <td>True</td>\n",
       "      <td>True</td>\n",
       "    </tr>\n",
       "    <tr>\n",
       "      <th>2811</th>\n",
       "      <td>ENSG00000129757</td>\n",
       "      <td>2.913685</td>\n",
       "      <td>NaN</td>\n",
       "      <td>NaN</td>\n",
       "      <td>False</td>\n",
       "      <td>False</td>\n",
       "      <td>False</td>\n",
       "    </tr>\n",
       "    <tr>\n",
       "      <th>2990</th>\n",
       "      <td>ENSG00000110693</td>\n",
       "      <td>2.909517</td>\n",
       "      <td>6.8284</td>\n",
       "      <td>3.035624</td>\n",
       "      <td>True</td>\n",
       "      <td>True</td>\n",
       "      <td>True</td>\n",
       "    </tr>\n",
       "    <tr>\n",
       "      <th>5478</th>\n",
       "      <td>ENSG00000100906</td>\n",
       "      <td>2.906312</td>\n",
       "      <td>9.9396</td>\n",
       "      <td>7.623272</td>\n",
       "      <td>True</td>\n",
       "      <td>True</td>\n",
       "      <td>True</td>\n",
       "    </tr>\n",
       "    <tr>\n",
       "      <th>9206</th>\n",
       "      <td>ENSG00000105655</td>\n",
       "      <td>2.886498</td>\n",
       "      <td>10.8070</td>\n",
       "      <td>8.525779</td>\n",
       "      <td>True</td>\n",
       "      <td>True</td>\n",
       "      <td>True</td>\n",
       "    </tr>\n",
       "    <tr>\n",
       "      <th>3054</th>\n",
       "      <td>ENSG00000066382</td>\n",
       "      <td>2.870202</td>\n",
       "      <td>7.5500</td>\n",
       "      <td>3.990865</td>\n",
       "      <td>True</td>\n",
       "      <td>True</td>\n",
       "      <td>True</td>\n",
       "    </tr>\n",
       "    <tr>\n",
       "      <th>4417</th>\n",
       "      <td>ENSG00000167779</td>\n",
       "      <td>2.865032</td>\n",
       "      <td>7.4541</td>\n",
       "      <td>5.410340</td>\n",
       "      <td>True</td>\n",
       "      <td>True</td>\n",
       "      <td>True</td>\n",
       "    </tr>\n",
       "    <tr>\n",
       "      <th>537</th>\n",
       "      <td>ENSG00000049089</td>\n",
       "      <td>2.865010</td>\n",
       "      <td>6.1094</td>\n",
       "      <td>3.788787</td>\n",
       "      <td>True</td>\n",
       "      <td>True</td>\n",
       "      <td>True</td>\n",
       "    </tr>\n",
       "    <tr>\n",
       "      <th>9698</th>\n",
       "      <td>ENSG00000142227</td>\n",
       "      <td>2.851208</td>\n",
       "      <td>NaN</td>\n",
       "      <td>NaN</td>\n",
       "      <td>False</td>\n",
       "      <td>False</td>\n",
       "      <td>False</td>\n",
       "    </tr>\n",
       "    <tr>\n",
       "      <th>17675</th>\n",
       "      <td>ENSG00000178031</td>\n",
       "      <td>2.806681</td>\n",
       "      <td>9.1223</td>\n",
       "      <td>5.057648</td>\n",
       "      <td>True</td>\n",
       "      <td>True</td>\n",
       "      <td>True</td>\n",
       "    </tr>\n",
       "    <tr>\n",
       "      <th>15915</th>\n",
       "      <td>ENSG00000118523</td>\n",
       "      <td>2.782079</td>\n",
       "      <td>NaN</td>\n",
       "      <td>NaN</td>\n",
       "      <td>False</td>\n",
       "      <td>False</td>\n",
       "      <td>False</td>\n",
       "    </tr>\n",
       "    <tr>\n",
       "      <th>17449</th>\n",
       "      <td>ENSG00000104447</td>\n",
       "      <td>2.768270</td>\n",
       "      <td>9.6220</td>\n",
       "      <td>6.102071</td>\n",
       "      <td>True</td>\n",
       "      <td>True</td>\n",
       "      <td>True</td>\n",
       "    </tr>\n",
       "    <tr>\n",
       "      <th>16358</th>\n",
       "      <td>ENSG00000106070</td>\n",
       "      <td>2.764836</td>\n",
       "      <td>8.5081</td>\n",
       "      <td>4.923628</td>\n",
       "      <td>True</td>\n",
       "      <td>True</td>\n",
       "      <td>True</td>\n",
       "    </tr>\n",
       "    <tr>\n",
       "      <th>16690</th>\n",
       "      <td>ENSG00000128573</td>\n",
       "      <td>2.724754</td>\n",
       "      <td>7.5630</td>\n",
       "      <td>3.977842</td>\n",
       "      <td>True</td>\n",
       "      <td>True</td>\n",
       "      <td>True</td>\n",
       "    </tr>\n",
       "    <tr>\n",
       "      <th>6408</th>\n",
       "      <td>ENSG00000157766</td>\n",
       "      <td>2.719488</td>\n",
       "      <td>7.3122</td>\n",
       "      <td>3.820510</td>\n",
       "      <td>True</td>\n",
       "      <td>True</td>\n",
       "      <td>True</td>\n",
       "    </tr>\n",
       "    <tr>\n",
       "      <th>4691</th>\n",
       "      <td>ENSG00000120833</td>\n",
       "      <td>2.702047</td>\n",
       "      <td>6.1094</td>\n",
       "      <td>3.309406</td>\n",
       "      <td>True</td>\n",
       "      <td>True</td>\n",
       "      <td>True</td>\n",
       "    </tr>\n",
       "    <tr>\n",
       "      <th>13037</th>\n",
       "      <td>ENSG00000181722</td>\n",
       "      <td>2.685643</td>\n",
       "      <td>7.9773</td>\n",
       "      <td>4.201562</td>\n",
       "      <td>True</td>\n",
       "      <td>True</td>\n",
       "      <td>True</td>\n",
       "    </tr>\n",
       "    <tr>\n",
       "      <th>10134</th>\n",
       "      <td>ENSG00000068697</td>\n",
       "      <td>2.681084</td>\n",
       "      <td>7.8017</td>\n",
       "      <td>4.969601</td>\n",
       "      <td>True</td>\n",
       "      <td>True</td>\n",
       "      <td>True</td>\n",
       "    </tr>\n",
       "    <tr>\n",
       "      <th>16783</th>\n",
       "      <td>ENSG00000122786</td>\n",
       "      <td>2.638695</td>\n",
       "      <td>7.5181</td>\n",
       "      <td>3.826638</td>\n",
       "      <td>True</td>\n",
       "      <td>True</td>\n",
       "      <td>True</td>\n",
       "    </tr>\n",
       "    <tr>\n",
       "      <th>4294</th>\n",
       "      <td>ENSG00000134294</td>\n",
       "      <td>2.634598</td>\n",
       "      <td>7.1717</td>\n",
       "      <td>4.467677</td>\n",
       "      <td>True</td>\n",
       "      <td>True</td>\n",
       "      <td>True</td>\n",
       "    </tr>\n",
       "    <tr>\n",
       "      <th>7614</th>\n",
       "      <td>ENSG00000034152</td>\n",
       "      <td>2.631758</td>\n",
       "      <td>6.1094</td>\n",
       "      <td>3.572857</td>\n",
       "      <td>True</td>\n",
       "      <td>True</td>\n",
       "      <td>True</td>\n",
       "    </tr>\n",
       "    <tr>\n",
       "      <th>14867</th>\n",
       "      <td>ENSG00000113721</td>\n",
       "      <td>2.610618</td>\n",
       "      <td>2.0307</td>\n",
       "      <td>-1.243619</td>\n",
       "      <td>True</td>\n",
       "      <td>True</td>\n",
       "      <td>True</td>\n",
       "    </tr>\n",
       "    <tr>\n",
       "      <th>17935</th>\n",
       "      <td>ENSG00000106809</td>\n",
       "      <td>2.603360</td>\n",
       "      <td>7.7272</td>\n",
       "      <td>4.946197</td>\n",
       "      <td>True</td>\n",
       "      <td>True</td>\n",
       "      <td>True</td>\n",
       "    </tr>\n",
       "    <tr>\n",
       "      <th>10389</th>\n",
       "      <td>ENSG00000169604</td>\n",
       "      <td>2.587620</td>\n",
       "      <td>6.1094</td>\n",
       "      <td>2.401741</td>\n",
       "      <td>True</td>\n",
       "      <td>True</td>\n",
       "      <td>True</td>\n",
       "    </tr>\n",
       "    <tr>\n",
       "      <th>16082</th>\n",
       "      <td>ENSG00000112562</td>\n",
       "      <td>2.578124</td>\n",
       "      <td>7.2661</td>\n",
       "      <td>3.552711</td>\n",
       "      <td>True</td>\n",
       "      <td>True</td>\n",
       "      <td>True</td>\n",
       "    </tr>\n",
       "    <tr>\n",
       "      <th>10925</th>\n",
       "      <td>ENSG00000168542</td>\n",
       "      <td>2.557034</td>\n",
       "      <td>4.7328</td>\n",
       "      <td>1.682912</td>\n",
       "      <td>True</td>\n",
       "      <td>True</td>\n",
       "      <td>True</td>\n",
       "    </tr>\n",
       "    <tr>\n",
       "      <th>15431</th>\n",
       "      <td>ENSG00000204248</td>\n",
       "      <td>2.548167</td>\n",
       "      <td>6.1094</td>\n",
       "      <td>2.918811</td>\n",
       "      <td>False</td>\n",
       "      <td>False</td>\n",
       "      <td>False</td>\n",
       "    </tr>\n",
       "    <tr>\n",
       "      <th>16623</th>\n",
       "      <td>ENSG00000257923</td>\n",
       "      <td>2.546392</td>\n",
       "      <td>8.2875</td>\n",
       "      <td>4.556510</td>\n",
       "      <td>True</td>\n",
       "      <td>True</td>\n",
       "      <td>True</td>\n",
       "    </tr>\n",
       "    <tr>\n",
       "      <th>16399</th>\n",
       "      <td>ENSG00000158321</td>\n",
       "      <td>2.543187</td>\n",
       "      <td>9.7930</td>\n",
       "      <td>5.966448</td>\n",
       "      <td>True</td>\n",
       "      <td>True</td>\n",
       "      <td>True</td>\n",
       "    </tr>\n",
       "    <tr>\n",
       "      <th>13411</th>\n",
       "      <td>ENSG00000244405</td>\n",
       "      <td>2.536931</td>\n",
       "      <td>3.2859</td>\n",
       "      <td>0.547888</td>\n",
       "      <td>True</td>\n",
       "      <td>True</td>\n",
       "      <td>True</td>\n",
       "    </tr>\n",
       "  </tbody>\n",
       "</table>\n",
       "</div>"
      ],
      "text/plain": [
       "                ENSGID  PoPS_Score        Y     Y_proj  \\\n",
       "4305   ENSG00000139219    4.637700   6.9873   3.756305   \n",
       "16513  ENSG00000164692    4.268547   7.6315   4.352896   \n",
       "16708  ENSG00000106034    4.206589   9.0396   5.409813   \n",
       "12797  ENSG00000114737    3.964449  14.9330  13.032016   \n",
       "4589   ENSG00000156076    3.833405   7.3379   4.209473   \n",
       "14654  ENSG00000125347    3.712567   7.1695   4.398465   \n",
       "11057  ENSG00000115457    3.699302   5.2421   2.939381   \n",
       "14635  ENSG00000138829    3.576322   8.1675   4.659276   \n",
       "10244  ENSG00000049323    3.431869  10.3670   6.492244   \n",
       "17958  ENSG00000148120    3.419572   7.8626   4.606701   \n",
       "10911  ENSG00000162998    3.402432   6.3531   3.218440   \n",
       "4759   ENSG00000235162    3.351985   4.9836   1.362221   \n",
       "18083  ENSG00000196739    3.266913   9.1047   5.324260   \n",
       "1448   ENSG00000162733    3.247120   6.6683   3.451868   \n",
       "14925  ENSG00000164330    3.224242   6.8143   3.157744   \n",
       "1302   ENSG00000160789    3.163376   7.2289   4.370659   \n",
       "12965  ENSG00000144810    3.124461   7.5410   4.125385   \n",
       "2801   ENSG00000167244    3.122063   6.3965   3.411761   \n",
       "2235   ENSG00000185532    3.061667  10.9990   6.749403   \n",
       "1499   ENSG00000116132    2.967788   7.4783   4.291300   \n",
       "11721  ENSG00000087460    2.930791   7.7866   4.474650   \n",
       "2811   ENSG00000129757    2.913685      NaN        NaN   \n",
       "2990   ENSG00000110693    2.909517   6.8284   3.035624   \n",
       "5478   ENSG00000100906    2.906312   9.9396   7.623272   \n",
       "9206   ENSG00000105655    2.886498  10.8070   8.525779   \n",
       "3054   ENSG00000066382    2.870202   7.5500   3.990865   \n",
       "4417   ENSG00000167779    2.865032   7.4541   5.410340   \n",
       "537    ENSG00000049089    2.865010   6.1094   3.788787   \n",
       "9698   ENSG00000142227    2.851208      NaN        NaN   \n",
       "17675  ENSG00000178031    2.806681   9.1223   5.057648   \n",
       "15915  ENSG00000118523    2.782079      NaN        NaN   \n",
       "17449  ENSG00000104447    2.768270   9.6220   6.102071   \n",
       "16358  ENSG00000106070    2.764836   8.5081   4.923628   \n",
       "16690  ENSG00000128573    2.724754   7.5630   3.977842   \n",
       "6408   ENSG00000157766    2.719488   7.3122   3.820510   \n",
       "4691   ENSG00000120833    2.702047   6.1094   3.309406   \n",
       "13037  ENSG00000181722    2.685643   7.9773   4.201562   \n",
       "10134  ENSG00000068697    2.681084   7.8017   4.969601   \n",
       "16783  ENSG00000122786    2.638695   7.5181   3.826638   \n",
       "4294   ENSG00000134294    2.634598   7.1717   4.467677   \n",
       "7614   ENSG00000034152    2.631758   6.1094   3.572857   \n",
       "14867  ENSG00000113721    2.610618   2.0307  -1.243619   \n",
       "17935  ENSG00000106809    2.603360   7.7272   4.946197   \n",
       "10389  ENSG00000169604    2.587620   6.1094   2.401741   \n",
       "16082  ENSG00000112562    2.578124   7.2661   3.552711   \n",
       "10925  ENSG00000168542    2.557034   4.7328   1.682912   \n",
       "15431  ENSG00000204248    2.548167   6.1094   2.918811   \n",
       "16623  ENSG00000257923    2.546392   8.2875   4.556510   \n",
       "16399  ENSG00000158321    2.543187   9.7930   5.966448   \n",
       "13411  ENSG00000244405    2.536931   3.2859   0.547888   \n",
       "\n",
       "       project_out_covariates_gene  feature_selection_gene  training_gene  \n",
       "4305                          True                    True           True  \n",
       "16513                         True                    True           True  \n",
       "16708                         True                    True           True  \n",
       "12797                         True                    True           True  \n",
       "4589                          True                    True           True  \n",
       "14654                         True                    True           True  \n",
       "11057                         True                    True           True  \n",
       "14635                         True                    True           True  \n",
       "10244                         True                    True           True  \n",
       "17958                         True                    True           True  \n",
       "10911                         True                    True           True  \n",
       "4759                          True                    True           True  \n",
       "18083                         True                    True           True  \n",
       "1448                          True                    True           True  \n",
       "14925                         True                    True           True  \n",
       "1302                          True                    True           True  \n",
       "12965                         True                    True           True  \n",
       "2801                          True                    True           True  \n",
       "2235                          True                    True           True  \n",
       "1499                          True                    True           True  \n",
       "11721                         True                    True           True  \n",
       "2811                         False                   False          False  \n",
       "2990                          True                    True           True  \n",
       "5478                          True                    True           True  \n",
       "9206                          True                    True           True  \n",
       "3054                          True                    True           True  \n",
       "4417                          True                    True           True  \n",
       "537                           True                    True           True  \n",
       "9698                         False                   False          False  \n",
       "17675                         True                    True           True  \n",
       "15915                        False                   False          False  \n",
       "17449                         True                    True           True  \n",
       "16358                         True                    True           True  \n",
       "16690                         True                    True           True  \n",
       "6408                          True                    True           True  \n",
       "4691                          True                    True           True  \n",
       "13037                         True                    True           True  \n",
       "10134                         True                    True           True  \n",
       "16783                         True                    True           True  \n",
       "4294                          True                    True           True  \n",
       "7614                          True                    True           True  \n",
       "14867                         True                    True           True  \n",
       "17935                         True                    True           True  \n",
       "10389                         True                    True           True  \n",
       "16082                         True                    True           True  \n",
       "10925                         True                    True           True  \n",
       "15431                        False                   False          False  \n",
       "16623                         True                    True           True  \n",
       "16399                         True                    True           True  \n",
       "13411                         True                    True           True  "
      ]
     },
     "execution_count": 14,
     "metadata": {},
     "output_type": "execute_result"
    }
   ],
   "source": [
    "significant_pops = pops_height.iloc[:500]\n",
    "significant_pops.head(50)"
   ]
  },
  {
   "cell_type": "code",
   "execution_count": 18,
   "id": "fd71d179",
   "metadata": {},
   "outputs": [
    {
     "name": "stdout",
     "output_type": "stream",
     "text": [
      "Total number of significant pops genes: 500\n"
     ]
    }
   ],
   "source": [
    "significant_pops_genes = significant_pops.ENSGID\n",
    "total_significant_genes = significant_pops.shape[0]\n",
    "print(f\"Total number of significant pops genes: {total_significant_genes}\")"
   ]
  },
  {
   "cell_type": "markdown",
   "id": "cad88c98",
   "metadata": {},
   "source": [
    "## Take the Relevant HPO genes"
   ]
  },
  {
   "cell_type": "code",
   "execution_count": 19,
   "id": "76269dfc",
   "metadata": {},
   "outputs": [
    {
     "name": "stdout",
     "output_type": "stream",
     "text": [
      "-\n",
      "ENSG00000004487    1.0\n",
      "ENSG00000004939    1.0\n",
      "ENSG00000005339    1.0\n",
      "ENSG00000005812    1.0\n",
      "ENSG00000007314    1.0\n",
      "                  ... \n",
      "ENSG00000258366    1.0\n",
      "ENSG00000259384    1.0\n",
      "ENSG00000266173    1.0\n",
      "ENSG00000272047    1.0\n",
      "ENSG00000272333    1.0\n",
      "Name: HP:0000002, Length: 1012, dtype: float64\n",
      "Number of HPO height genes: 1012\n"
     ]
    }
   ],
   "source": [
    "height_HPO = 'HP:0000002'\n",
    "\n",
    "hpo_term_data = overlapping_genes_data.loc[overlapping_genes_data[height_HPO] == 1, height_HPO]\n",
    "print(hpo_term_data)\n",
    "hpo_term_genes = hpo_term_data.index\n",
    "total_hpo_term_genes = hpo_term_data.shape[0]\n",
    "print(f\"Number of HPO height genes: {total_hpo_term_genes}\")"
   ]
  },
  {
   "cell_type": "code",
   "execution_count": 20,
   "id": "ccdc7ae5",
   "metadata": {},
   "outputs": [
    {
     "name": "stdout",
     "output_type": "stream",
     "text": [
      "-\n",
      "ENSG00000004487    1.0\n",
      "ENSG00000004939    1.0\n",
      "ENSG00000005339    1.0\n",
      "ENSG00000005812    1.0\n",
      "ENSG00000007314    1.0\n",
      "                  ... \n",
      "ENSG00000258366    1.0\n",
      "ENSG00000259384    1.0\n",
      "ENSG00000266173    1.0\n",
      "ENSG00000272047    1.0\n",
      "ENSG00000272333    1.0\n",
      "Name: HP:0000002, Length: 1012, dtype: float64\n"
     ]
    }
   ],
   "source": [
    "height_HPO = 'HP:0000002'\n",
    "\n",
    "hpo_term_data = overlapping_genes_data.loc[overlapping_genes_data[height_HPO] == 1, height_HPO]\n",
    "print(hpo_term_data)"
   ]
  },
  {
   "cell_type": "markdown",
   "id": "a70dd50a",
   "metadata": {},
   "source": [
    "## Create table"
   ]
  },
  {
   "cell_type": "code",
   "execution_count": 23,
   "id": "1ee2174f",
   "metadata": {},
   "outputs": [
    {
     "data": {
      "text/plain": [
       "16595"
      ]
     },
     "execution_count": 23,
     "metadata": {},
     "output_type": "execute_result"
    }
   ],
   "source": [
    "# Not in HPO height and not in GWAS\n",
    "tl = overlapping_genes[~overlapping_genes.isin(significant_pops_genes) & ~overlapping_genes.isin(hpo_term_genes)].shape[0]\n",
    "tl"
   ]
  },
  {
   "cell_type": "code",
   "execution_count": 24,
   "id": "a0e18e0b",
   "metadata": {},
   "outputs": [
    {
     "data": {
      "text/plain": [
       "422"
      ]
     },
     "execution_count": 24,
     "metadata": {},
     "output_type": "execute_result"
    }
   ],
   "source": [
    "# In GWAS but not in HPO height\n",
    "bl = overlapping_genes[overlapping_genes.isin(significant_pops_genes) & ~overlapping_genes.isin(hpo_term_genes)].shape[0]\n",
    "bl"
   ]
  },
  {
   "cell_type": "code",
   "execution_count": 25,
   "id": "7fa02c86",
   "metadata": {},
   "outputs": [
    {
     "data": {
      "text/plain": [
       "934"
      ]
     },
     "execution_count": 25,
     "metadata": {},
     "output_type": "execute_result"
    }
   ],
   "source": [
    "# Not in GWAS but IN HPO height\n",
    "tr = overlapping_genes[~overlapping_genes.isin(significant_pops_genes) & overlapping_genes.isin(hpo_term_genes)].shape[0]\n",
    "tr"
   ]
  },
  {
   "cell_type": "code",
   "execution_count": 26,
   "id": "f56baa79",
   "metadata": {},
   "outputs": [
    {
     "data": {
      "text/plain": [
       "78"
      ]
     },
     "execution_count": 26,
     "metadata": {},
     "output_type": "execute_result"
    }
   ],
   "source": [
    "# in GWAS and in HPO height\n",
    "br = overlapping_genes[overlapping_genes.isin(significant_pops_genes) & overlapping_genes.isin(hpo_term_genes)].shape[0]\n",
    "br"
   ]
  },
  {
   "cell_type": "code",
   "execution_count": 27,
   "id": "307548af",
   "metadata": {},
   "outputs": [
    {
     "name": "stdout",
     "output_type": "stream",
     "text": [
      "Overlap key genes with HPO: 15.60%\n"
     ]
    }
   ],
   "source": [
    "overlap_key_genes = (br * 100) / total_significant_genes\n",
    "print(f\"Overlap key genes with HPO: {overlap_key_genes:.2f}%\")"
   ]
  },
  {
   "cell_type": "code",
   "execution_count": 28,
   "id": "19f6b2ff",
   "metadata": {},
   "outputs": [
    {
     "data": {
      "text/plain": [
       "18029"
      ]
     },
     "execution_count": 28,
     "metadata": {},
     "output_type": "execute_result"
    }
   ],
   "source": [
    "total = tl + bl + tr + br\n",
    "total"
   ]
  },
  {
   "cell_type": "code",
   "execution_count": 30,
   "id": "c65a2f7a",
   "metadata": {},
   "outputs": [
    {
     "data": {
      "text/plain": [
       "array([[16595,   934, 17529],\n",
       "       [  422,    78,   500],\n",
       "       [17017,  1012, 18029]], dtype=int64)"
      ]
     },
     "execution_count": 30,
     "metadata": {},
     "output_type": "execute_result"
    }
   ],
   "source": [
    "metrix.values"
   ]
  },
  {
   "cell_type": "code",
   "execution_count": 29,
   "id": "ffc64cce",
   "metadata": {},
   "outputs": [
    {
     "name": "stdout",
     "output_type": "stream",
     "text": [
      "Total overlap = 18029\n"
     ]
    },
    {
     "data": {
      "text/html": [
       "<div>\n",
       "<style scoped>\n",
       "    .dataframe tbody tr th:only-of-type {\n",
       "        vertical-align: middle;\n",
       "    }\n",
       "\n",
       "    .dataframe tbody tr th {\n",
       "        vertical-align: top;\n",
       "    }\n",
       "\n",
       "    .dataframe thead th {\n",
       "        text-align: right;\n",
       "    }\n",
       "</style>\n",
       "<table border=\"1\" class=\"dataframe\">\n",
       "  <thead>\n",
       "    <tr style=\"text-align: right;\">\n",
       "      <th></th>\n",
       "      <th>No HPO</th>\n",
       "      <th>Yes HPO</th>\n",
       "      <th>sum</th>\n",
       "    </tr>\n",
       "  </thead>\n",
       "  <tbody>\n",
       "    <tr>\n",
       "      <th>No GWAS</th>\n",
       "      <td>16595</td>\n",
       "      <td>934</td>\n",
       "      <td>17529</td>\n",
       "    </tr>\n",
       "    <tr>\n",
       "      <th>Yes GWAS</th>\n",
       "      <td>422</td>\n",
       "      <td>78</td>\n",
       "      <td>500</td>\n",
       "    </tr>\n",
       "    <tr>\n",
       "      <th>sum</th>\n",
       "      <td>17017</td>\n",
       "      <td>1012</td>\n",
       "      <td>18029</td>\n",
       "    </tr>\n",
       "  </tbody>\n",
       "</table>\n",
       "</div>"
      ],
      "text/plain": [
       "          No HPO  Yes HPO    sum\n",
       "No GWAS    16595      934  17529\n",
       "Yes GWAS     422       78    500\n",
       "sum        17017     1012  18029"
      ]
     },
     "execution_count": 29,
     "metadata": {},
     "output_type": "execute_result"
    }
   ],
   "source": [
    "print(f\"Total overlap = {total_overlap}\")\n",
    "metrix = pd.DataFrame({\"No HPO\": [tl, bl, tl + bl], \"Yes HPO\": [tr, br, tr + br],\n",
    "                      \"sum\": [tl + tr, bl + br, total]})\n",
    "metrix.index = [\"No GWAS\", \"Yes GWAS\", \"sum\"]\n",
    "metrix"
   ]
  },
  {
   "cell_type": "code",
   "execution_count": 31,
   "id": "34217d48",
   "metadata": {},
   "outputs": [
    {
     "name": "stdout",
     "output_type": "stream",
     "text": [
      "(3.2840709581172556, 1.3808760558411416e-16)\n"
     ]
    }
   ],
   "source": [
    "import scipy.stats as stats\n",
    "\n",
    "# link: https://www.statology.org/fishers-exact-test-python/\n",
    "\n",
    "fish_data = metrix.iloc[0:2, 0:2].values\n",
    "\n",
    "print(stats.fisher_exact(fish_data))"
   ]
  },
  {
   "cell_type": "code",
   "execution_count": 15,
   "id": "57cb573b",
   "metadata": {},
   "outputs": [
    {
     "data": {
      "image/png": "[encoded data removed]",
      "text/plain": [
       "<Figure size 432x288 with 1 Axes>"
      ]
     },
     "metadata": {},
     "output_type": "display_data"
    }
   ],
   "source": [
    "ax = plt.gca()\n",
    "labels = ['PoPS genes', 'HPO genes']\n",
    "\n",
    "v = venn2(subsets = (500, 1012, 78), \n",
    "          set_labels=(labels),\n",
    "          set_colors=('white', 'teal'), alpha=0.7)\n",
    "v.get_patch_by_id('10').set_alpha(0.3)\n",
    "v.get_patch_by_id('11').set_alpha(0.3)\n",
    "v.get_patch_by_id('01').set_alpha(0.3)\n",
    "\n",
    "v.get_label_by_id('10').set_fontsize(14)\n",
    "v.get_label_by_id('11').set_fontsize(14)\n",
    "\n",
    "text2 = 'HPO prostate genes/n'+ v.get_label_by_id('01').get_text()\n",
    "v.get_label_by_id('01').set_fontsize(16)\n",
    "\n",
    "venn2_circles(subsets=(500, 1012, 78), linewidth=1)\n",
    "\n",
    "plt.show()\n",
    "\n"
   ]
  },
  {
   "cell_type": "markdown",
   "id": "14aa9e99",
   "metadata": {},
   "source": [
    "### Calculate precision and recall for height using two by two table"
   ]
  },
  {
   "cell_type": "code",
   "execution_count": 18,
   "id": "663e998b",
   "metadata": {},
   "outputs": [],
   "source": [
    "TP= 78\n",
    "TN = 16595\n",
    "FP= 422\n",
    "FN= 934\n",
    "precision = (TP / (TP + FP))\n",
    "recall = (TP / (TP + FN))"
   ]
  },
  {
   "cell_type": "code",
   "execution_count": 22,
   "id": "77fde023",
   "metadata": {},
   "outputs": [
    {
     "name": "stdout",
     "output_type": "stream",
     "text": [
      "precision for height: 0.16%\n"
     ]
    }
   ],
   "source": [
    "print(f\"precision for height: {precision:.2f}\")"
   ]
  },
  {
   "cell_type": "code",
   "execution_count": 23,
   "id": "38c87e57",
   "metadata": {},
   "outputs": [
    {
     "name": "stdout",
     "output_type": "stream",
     "text": [
      "recall for height: 0.08%\n"
     ]
    }
   ],
   "source": [
    "print(f\"recall for height: {recall:.2f}\")"
   ]
  },
  {
   "cell_type": "markdown",
   "id": "14bd1649",
   "metadata": {},
   "source": [
    "# Loading IBD dataset"
   ]
  },
  {
   "cell_type": "code",
   "execution_count": 26,
   "id": "244f2726",
   "metadata": {},
   "outputs": [],
   "source": [
    "#making a config file: \n",
    "\n",
    "file = config['IBD']\n",
    "\n",
    "data_IBD = pd.read_csv(file, sep=\"\\t\")"
   ]
  },
  {
   "cell_type": "code",
   "execution_count": 27,
   "id": "5c0f55b4",
   "metadata": {},
   "outputs": [
    {
     "data": {
      "text/html": [
       "<div>\n",
       "<style scoped>\n",
       "    .dataframe tbody tr th:only-of-type {\n",
       "        vertical-align: middle;\n",
       "    }\n",
       "\n",
       "    .dataframe tbody tr th {\n",
       "        vertical-align: top;\n",
       "    }\n",
       "\n",
       "    .dataframe thead th {\n",
       "        text-align: right;\n",
       "    }\n",
       "</style>\n",
       "<table border=\"1\" class=\"dataframe\">\n",
       "  <thead>\n",
       "    <tr style=\"text-align: right;\">\n",
       "      <th></th>\n",
       "      <th>ENSGID</th>\n",
       "      <th>PoPS_Score</th>\n",
       "      <th>Y</th>\n",
       "      <th>Y_proj</th>\n",
       "      <th>project_out_covariates_gene</th>\n",
       "      <th>feature_selection_gene</th>\n",
       "      <th>training_gene</th>\n",
       "    </tr>\n",
       "  </thead>\n",
       "  <tbody>\n",
       "    <tr>\n",
       "      <th>0</th>\n",
       "      <td>ENSG00000186092</td>\n",
       "      <td>-0.140390</td>\n",
       "      <td>NaN</td>\n",
       "      <td>NaN</td>\n",
       "      <td>False</td>\n",
       "      <td>False</td>\n",
       "      <td>False</td>\n",
       "    </tr>\n",
       "    <tr>\n",
       "      <th>1</th>\n",
       "      <td>ENSG00000235249</td>\n",
       "      <td>-0.069750</td>\n",
       "      <td>NaN</td>\n",
       "      <td>NaN</td>\n",
       "      <td>False</td>\n",
       "      <td>False</td>\n",
       "      <td>False</td>\n",
       "    </tr>\n",
       "    <tr>\n",
       "      <th>2</th>\n",
       "      <td>ENSG00000185097</td>\n",
       "      <td>-0.069647</td>\n",
       "      <td>NaN</td>\n",
       "      <td>NaN</td>\n",
       "      <td>False</td>\n",
       "      <td>False</td>\n",
       "      <td>False</td>\n",
       "    </tr>\n",
       "    <tr>\n",
       "      <th>3</th>\n",
       "      <td>ENSG00000187634</td>\n",
       "      <td>0.108231</td>\n",
       "      <td>-0.35698</td>\n",
       "      <td>-0.736082</td>\n",
       "      <td>True</td>\n",
       "      <td>True</td>\n",
       "      <td>True</td>\n",
       "    </tr>\n",
       "    <tr>\n",
       "      <th>4</th>\n",
       "      <td>ENSG00000188976</td>\n",
       "      <td>0.256960</td>\n",
       "      <td>2.02270</td>\n",
       "      <td>1.919442</td>\n",
       "      <td>True</td>\n",
       "      <td>True</td>\n",
       "      <td>True</td>\n",
       "    </tr>\n",
       "    <tr>\n",
       "      <th>...</th>\n",
       "      <td>...</td>\n",
       "      <td>...</td>\n",
       "      <td>...</td>\n",
       "      <td>...</td>\n",
       "      <td>...</td>\n",
       "      <td>...</td>\n",
       "      <td>...</td>\n",
       "    </tr>\n",
       "    <tr>\n",
       "      <th>18378</th>\n",
       "      <td>ENSG00000165724</td>\n",
       "      <td>-0.216866</td>\n",
       "      <td>NaN</td>\n",
       "      <td>NaN</td>\n",
       "      <td>False</td>\n",
       "      <td>False</td>\n",
       "      <td>False</td>\n",
       "    </tr>\n",
       "    <tr>\n",
       "      <th>18379</th>\n",
       "      <td>ENSG00000197070</td>\n",
       "      <td>-0.143512</td>\n",
       "      <td>NaN</td>\n",
       "      <td>NaN</td>\n",
       "      <td>False</td>\n",
       "      <td>False</td>\n",
       "      <td>False</td>\n",
       "    </tr>\n",
       "    <tr>\n",
       "      <th>18380</th>\n",
       "      <td>ENSG00000203993</td>\n",
       "      <td>0.006498</td>\n",
       "      <td>NaN</td>\n",
       "      <td>NaN</td>\n",
       "      <td>False</td>\n",
       "      <td>False</td>\n",
       "      <td>False</td>\n",
       "    </tr>\n",
       "    <tr>\n",
       "      <th>18381</th>\n",
       "      <td>ENSG00000181090</td>\n",
       "      <td>0.279129</td>\n",
       "      <td>NaN</td>\n",
       "      <td>NaN</td>\n",
       "      <td>False</td>\n",
       "      <td>False</td>\n",
       "      <td>False</td>\n",
       "    </tr>\n",
       "    <tr>\n",
       "      <th>18382</th>\n",
       "      <td>ENSG00000148408</td>\n",
       "      <td>-0.353768</td>\n",
       "      <td>NaN</td>\n",
       "      <td>NaN</td>\n",
       "      <td>False</td>\n",
       "      <td>False</td>\n",
       "      <td>False</td>\n",
       "    </tr>\n",
       "  </tbody>\n",
       "</table>\n",
       "<p>18383 rows × 7 columns</p>\n",
       "</div>"
      ],
      "text/plain": [
       "                ENSGID  PoPS_Score        Y    Y_proj  \\\n",
       "0      ENSG00000186092   -0.140390      NaN       NaN   \n",
       "1      ENSG00000235249   -0.069750      NaN       NaN   \n",
       "2      ENSG00000185097   -0.069647      NaN       NaN   \n",
       "3      ENSG00000187634    0.108231 -0.35698 -0.736082   \n",
       "4      ENSG00000188976    0.256960  2.02270  1.919442   \n",
       "...                ...         ...      ...       ...   \n",
       "18378  ENSG00000165724   -0.216866      NaN       NaN   \n",
       "18379  ENSG00000197070   -0.143512      NaN       NaN   \n",
       "18380  ENSG00000203993    0.006498      NaN       NaN   \n",
       "18381  ENSG00000181090    0.279129      NaN       NaN   \n",
       "18382  ENSG00000148408   -0.353768      NaN       NaN   \n",
       "\n",
       "       project_out_covariates_gene  feature_selection_gene  training_gene  \n",
       "0                            False                   False          False  \n",
       "1                            False                   False          False  \n",
       "2                            False                   False          False  \n",
       "3                             True                    True           True  \n",
       "4                             True                    True           True  \n",
       "...                            ...                     ...            ...  \n",
       "18378                        False                   False          False  \n",
       "18379                        False                   False          False  \n",
       "18380                        False                   False          False  \n",
       "18381                        False                   False          False  \n",
       "18382                        False                   False          False  \n",
       "\n",
       "[18383 rows x 7 columns]"
      ]
     },
     "execution_count": 27,
     "metadata": {},
     "output_type": "execute_result"
    }
   ],
   "source": [
    "data_IBD"
   ]
  },
  {
   "cell_type": "code",
   "execution_count": 34,
   "id": "e5bae3e1",
   "metadata": {},
   "outputs": [],
   "source": [
    "pops_ibd = data_IBD.sort_values(by = 'PoPS_Score', ascending = False)\n"
   ]
  },
  {
   "cell_type": "code",
   "execution_count": 95,
   "id": "6092432b",
   "metadata": {},
   "outputs": [
    {
     "data": {
      "text/plain": [
       "array(['ENSG00000213145', 'ENSG00000119042', 'ENSG00000257341', ...,\n",
       "       'ENSG00000167306', 'ENSG00000050165', 'ENSG00000146674'],\n",
       "      dtype=object)"
      ]
     },
     "execution_count": 95,
     "metadata": {},
     "output_type": "execute_result"
    }
   ],
   "source": [
    "pops_ibd_ids = pops_ibd.ENSGID.values\n",
    "pops_ibd_ids"
   ]
  },
  {
   "cell_type": "code",
   "execution_count": 96,
   "id": "b91f71ee",
   "metadata": {},
   "outputs": [
    {
     "data": {
      "text/plain": [
       "18383"
      ]
     },
     "execution_count": 96,
     "metadata": {},
     "output_type": "execute_result"
    }
   ],
   "source": [
    "pops_ibd.ENSGID.nunique()"
   ]
  },
  {
   "cell_type": "markdown",
   "id": "57a51c31",
   "metadata": {},
   "source": [
    "## Genes Overlapping pops and HPO for IBD"
   ]
  },
  {
   "cell_type": "code",
   "execution_count": 97,
   "id": "4ab7fb69",
   "metadata": {},
   "outputs": [],
   "source": [
    "overlapping_genes_ibd = data[data.index.isin(pops_ibd_ids)]"
   ]
  },
  {
   "cell_type": "code",
   "execution_count": 86,
   "id": "0c93c97f",
   "metadata": {},
   "outputs": [
    {
     "name": "stdout",
     "output_type": "stream",
     "text": [
      "Number of ibd overlapping genes: 18029\n"
     ]
    }
   ],
   "source": [
    "#print(overlapping_genes.index)\n",
    "overlapping_genesibd = overlapping_genes_ibd.index\n",
    "total_overlap = overlapping_genesibd.shape[0]\n",
    "print(f\"Number of ibd overlapping genes: {total_overlap}\")"
   ]
  },
  {
   "cell_type": "markdown",
   "id": "365ef16e",
   "metadata": {},
   "source": [
    "## Take the Significant genes from pops"
   ]
  },
  {
   "cell_type": "code",
   "execution_count": 87,
   "id": "c151742b",
   "metadata": {},
   "outputs": [
    {
     "data": {
      "text/html": [
       "<div>\n",
       "<style scoped>\n",
       "    .dataframe tbody tr th:only-of-type {\n",
       "        vertical-align: middle;\n",
       "    }\n",
       "\n",
       "    .dataframe tbody tr th {\n",
       "        vertical-align: top;\n",
       "    }\n",
       "\n",
       "    .dataframe thead th {\n",
       "        text-align: right;\n",
       "    }\n",
       "</style>\n",
       "<table border=\"1\" class=\"dataframe\">\n",
       "  <thead>\n",
       "    <tr style=\"text-align: right;\">\n",
       "      <th></th>\n",
       "      <th>ENSGID</th>\n",
       "      <th>PoPS_Score</th>\n",
       "      <th>Y</th>\n",
       "      <th>Y_proj</th>\n",
       "      <th>project_out_covariates_gene</th>\n",
       "      <th>feature_selection_gene</th>\n",
       "      <th>training_gene</th>\n",
       "    </tr>\n",
       "  </thead>\n",
       "  <tbody>\n",
       "    <tr>\n",
       "      <th>5897</th>\n",
       "      <td>ENSG00000213145</td>\n",
       "      <td>2.380612</td>\n",
       "      <td>NaN</td>\n",
       "      <td>NaN</td>\n",
       "      <td>False</td>\n",
       "      <td>False</td>\n",
       "      <td>False</td>\n",
       "    </tr>\n",
       "    <tr>\n",
       "      <th>10966</th>\n",
       "      <td>ENSG00000119042</td>\n",
       "      <td>2.123448</td>\n",
       "      <td>3.97610</td>\n",
       "      <td>3.308864</td>\n",
       "      <td>True</td>\n",
       "      <td>True</td>\n",
       "      <td>True</td>\n",
       "    </tr>\n",
       "    <tr>\n",
       "      <th>5898</th>\n",
       "      <td>ENSG00000257341</td>\n",
       "      <td>2.077931</td>\n",
       "      <td>NaN</td>\n",
       "      <td>NaN</td>\n",
       "      <td>False</td>\n",
       "      <td>False</td>\n",
       "      <td>False</td>\n",
       "    </tr>\n",
       "    <tr>\n",
       "      <th>11570</th>\n",
       "      <td>ENSG00000204103</td>\n",
       "      <td>1.793351</td>\n",
       "      <td>2.42360</td>\n",
       "      <td>1.824336</td>\n",
       "      <td>True</td>\n",
       "      <td>True</td>\n",
       "      <td>True</td>\n",
       "    </tr>\n",
       "    <tr>\n",
       "      <th>18058</th>\n",
       "      <td>ENSG00000106868</td>\n",
       "      <td>1.685084</td>\n",
       "      <td>6.99140</td>\n",
       "      <td>6.348577</td>\n",
       "      <td>True</td>\n",
       "      <td>True</td>\n",
       "      <td>True</td>\n",
       "    </tr>\n",
       "    <tr>\n",
       "      <th>...</th>\n",
       "      <td>...</td>\n",
       "      <td>...</td>\n",
       "      <td>...</td>\n",
       "      <td>...</td>\n",
       "      <td>...</td>\n",
       "      <td>...</td>\n",
       "      <td>...</td>\n",
       "    </tr>\n",
       "    <tr>\n",
       "      <th>4031</th>\n",
       "      <td>ENSG00000010278</td>\n",
       "      <td>0.508587</td>\n",
       "      <td>2.44000</td>\n",
       "      <td>1.722966</td>\n",
       "      <td>True</td>\n",
       "      <td>True</td>\n",
       "      <td>True</td>\n",
       "    </tr>\n",
       "    <tr>\n",
       "      <th>8769</th>\n",
       "      <td>ENSG00000104904</td>\n",
       "      <td>0.508184</td>\n",
       "      <td>1.61800</td>\n",
       "      <td>1.087285</td>\n",
       "      <td>True</td>\n",
       "      <td>True</td>\n",
       "      <td>True</td>\n",
       "    </tr>\n",
       "    <tr>\n",
       "      <th>11249</th>\n",
       "      <td>ENSG00000162804</td>\n",
       "      <td>0.508033</td>\n",
       "      <td>2.58490</td>\n",
       "      <td>1.916136</td>\n",
       "      <td>True</td>\n",
       "      <td>True</td>\n",
       "      <td>True</td>\n",
       "    </tr>\n",
       "    <tr>\n",
       "      <th>16031</th>\n",
       "      <td>ENSG00000078269</td>\n",
       "      <td>0.507821</td>\n",
       "      <td>0.72987</td>\n",
       "      <td>0.083384</td>\n",
       "      <td>True</td>\n",
       "      <td>True</td>\n",
       "      <td>True</td>\n",
       "    </tr>\n",
       "    <tr>\n",
       "      <th>16543</th>\n",
       "      <td>ENSG00000241685</td>\n",
       "      <td>0.506638</td>\n",
       "      <td>2.96230</td>\n",
       "      <td>2.447353</td>\n",
       "      <td>True</td>\n",
       "      <td>True</td>\n",
       "      <td>True</td>\n",
       "    </tr>\n",
       "  </tbody>\n",
       "</table>\n",
       "<p>500 rows × 7 columns</p>\n",
       "</div>"
      ],
      "text/plain": [
       "                ENSGID  PoPS_Score        Y    Y_proj  \\\n",
       "5897   ENSG00000213145    2.380612      NaN       NaN   \n",
       "10966  ENSG00000119042    2.123448  3.97610  3.308864   \n",
       "5898   ENSG00000257341    2.077931      NaN       NaN   \n",
       "11570  ENSG00000204103    1.793351  2.42360  1.824336   \n",
       "18058  ENSG00000106868    1.685084  6.99140  6.348577   \n",
       "...                ...         ...      ...       ...   \n",
       "4031   ENSG00000010278    0.508587  2.44000  1.722966   \n",
       "8769   ENSG00000104904    0.508184  1.61800  1.087285   \n",
       "11249  ENSG00000162804    0.508033  2.58490  1.916136   \n",
       "16031  ENSG00000078269    0.507821  0.72987  0.083384   \n",
       "16543  ENSG00000241685    0.506638  2.96230  2.447353   \n",
       "\n",
       "       project_out_covariates_gene  feature_selection_gene  training_gene  \n",
       "5897                         False                   False          False  \n",
       "10966                         True                    True           True  \n",
       "5898                         False                   False          False  \n",
       "11570                         True                    True           True  \n",
       "18058                         True                    True           True  \n",
       "...                            ...                     ...            ...  \n",
       "4031                          True                    True           True  \n",
       "8769                          True                    True           True  \n",
       "11249                         True                    True           True  \n",
       "16031                         True                    True           True  \n",
       "16543                         True                    True           True  \n",
       "\n",
       "[500 rows x 7 columns]"
      ]
     },
     "execution_count": 87,
     "metadata": {},
     "output_type": "execute_result"
    }
   ],
   "source": [
    "significant_ibd = pops_ibd.iloc[:500]\n",
    "significant_ibd"
   ]
  },
  {
   "cell_type": "code",
   "execution_count": 88,
   "id": "e06ad6f7",
   "metadata": {},
   "outputs": [
    {
     "name": "stdout",
     "output_type": "stream",
     "text": [
      "Total number of significant pops genes: 500\n"
     ]
    }
   ],
   "source": [
    "significant_ibd_genes = significant_ibd.ENSGID\n",
    "total_significant_genes = significant_ibd.shape[0]\n",
    "print(f\"Total number of significant pops genes: {total_significant_genes}\")"
   ]
  },
  {
   "cell_type": "markdown",
   "id": "cd358cdc",
   "metadata": {},
   "source": [
    "## Take the Relevant HPO genes"
   ]
  },
  {
   "cell_type": "code",
   "execution_count": 89,
   "id": "0d1dc564",
   "metadata": {},
   "outputs": [
    {
     "name": "stdout",
     "output_type": "stream",
     "text": [
      "-\n",
      "ENSG00000001626    1.0\n",
      "ENSG00000003400    1.0\n",
      "ENSG00000004399    1.0\n",
      "ENSG00000004455    1.0\n",
      "ENSG00000004838    1.0\n",
      "                  ... \n",
      "ENSG00000248098    1.0\n",
      "ENSG00000253729    1.0\n",
      "ENSG00000256061    1.0\n",
      "ENSG00000258366    1.0\n",
      "ENSG00000272047    1.0\n",
      "Name: HP:0012649, Length: 656, dtype: float64\n",
      "Number of HPO height genes: 656\n"
     ]
    }
   ],
   "source": [
    "ibd_HPO = 'HP:0012649' \n",
    "\n",
    "hpo_term_data = overlapping_genes_ibd.loc[overlapping_genes_ibd[ibd_HPO] == 1, ibd_HPO]\n",
    "print(hpo_term_data)\n",
    "hpo_term_genes = hpo_term_data.index\n",
    "total_hpo_term_genes = hpo_term_data.shape[0]\n",
    "print(f\"Number of HPO height genes: {total_hpo_term_genes}\")"
   ]
  },
  {
   "cell_type": "markdown",
   "id": "c5d07744",
   "metadata": {},
   "source": [
    "## Create table"
   ]
  },
  {
   "cell_type": "code",
   "execution_count": 90,
   "id": "55571ff2",
   "metadata": {},
   "outputs": [
    {
     "data": {
      "text/plain": [
       "16910"
      ]
     },
     "execution_count": 90,
     "metadata": {},
     "output_type": "execute_result"
    }
   ],
   "source": [
    "# Not in HPO height and not in GWAS\n",
    "tl = overlapping_genesibd[~overlapping_genesibd.isin(significant_ibd_genes) & ~overlapping_genesibd.isin(hpo_term_genes)].shape[0]\n",
    "tl"
   ]
  },
  {
   "cell_type": "code",
   "execution_count": 91,
   "id": "d29837eb",
   "metadata": {},
   "outputs": [
    {
     "data": {
      "text/plain": [
       "463"
      ]
     },
     "execution_count": 91,
     "metadata": {},
     "output_type": "execute_result"
    }
   ],
   "source": [
    "# In GWAS but not in HPO height\n",
    "bl = overlapping_genesibd[overlapping_genesibd.isin(significant_ibd_genes) & ~overlapping_genesibd.isin(hpo_term_genes)].shape[0]\n",
    "bl"
   ]
  },
  {
   "cell_type": "code",
   "execution_count": 92,
   "id": "dee8e0c5",
   "metadata": {},
   "outputs": [
    {
     "data": {
      "text/plain": [
       "622"
      ]
     },
     "execution_count": 92,
     "metadata": {},
     "output_type": "execute_result"
    }
   ],
   "source": [
    "# Not in GWAS but IN HPO height\n",
    "tr = overlapping_genesibd[~overlapping_genesibd.isin(significant_ibd_genes) & overlapping_genesibd.isin(hpo_term_genes)].shape[0]\n",
    "tr"
   ]
  },
  {
   "cell_type": "code",
   "execution_count": 93,
   "id": "64b9098b",
   "metadata": {},
   "outputs": [
    {
     "data": {
      "text/plain": [
       "34"
      ]
     },
     "execution_count": 93,
     "metadata": {},
     "output_type": "execute_result"
    }
   ],
   "source": [
    "# in GWAS and in HPO height\n",
    "br = overlapping_genesibd[overlapping_genesibd.isin(significant_ibd_genes) & overlapping_genesibd.isin(hpo_term_genes)].shape[0]\n",
    "br"
   ]
  },
  {
   "cell_type": "code",
   "execution_count": 46,
   "id": "fe97f9fa",
   "metadata": {},
   "outputs": [
    {
     "name": "stdout",
     "output_type": "stream",
     "text": [
      "Overlap key genes with HPO: 6.80%\n"
     ]
    }
   ],
   "source": [
    "overlap_key_genes_ibd = (br * 100) / total_significant_genes\n",
    "print(f\"Overlap key genes with HPO: {overlap_key_genes_ibd:.2f}%\")"
   ]
  },
  {
   "cell_type": "code",
   "execution_count": 47,
   "id": "d37af382",
   "metadata": {},
   "outputs": [
    {
     "data": {
      "text/plain": [
       "18029"
      ]
     },
     "execution_count": 47,
     "metadata": {},
     "output_type": "execute_result"
    }
   ],
   "source": [
    "total = tl + bl + tr + br\n",
    "total"
   ]
  },
  {
   "cell_type": "code",
   "execution_count": 94,
   "id": "c76107a8",
   "metadata": {},
   "outputs": [
    {
     "name": "stdout",
     "output_type": "stream",
     "text": [
      "Total overlap = 18029\n"
     ]
    },
    {
     "data": {
      "text/html": [
       "<div>\n",
       "<style scoped>\n",
       "    .dataframe tbody tr th:only-of-type {\n",
       "        vertical-align: middle;\n",
       "    }\n",
       "\n",
       "    .dataframe tbody tr th {\n",
       "        vertical-align: top;\n",
       "    }\n",
       "\n",
       "    .dataframe thead th {\n",
       "        text-align: right;\n",
       "    }\n",
       "</style>\n",
       "<table border=\"1\" class=\"dataframe\">\n",
       "  <thead>\n",
       "    <tr style=\"text-align: right;\">\n",
       "      <th></th>\n",
       "      <th>No HPO</th>\n",
       "      <th>Yes HPO</th>\n",
       "      <th>sum</th>\n",
       "    </tr>\n",
       "  </thead>\n",
       "  <tbody>\n",
       "    <tr>\n",
       "      <th>No GWAS</th>\n",
       "      <td>16910</td>\n",
       "      <td>622</td>\n",
       "      <td>17532</td>\n",
       "    </tr>\n",
       "    <tr>\n",
       "      <th>Yes GWAS</th>\n",
       "      <td>463</td>\n",
       "      <td>34</td>\n",
       "      <td>497</td>\n",
       "    </tr>\n",
       "    <tr>\n",
       "      <th>sum</th>\n",
       "      <td>17373</td>\n",
       "      <td>656</td>\n",
       "      <td>18029</td>\n",
       "    </tr>\n",
       "  </tbody>\n",
       "</table>\n",
       "</div>"
      ],
      "text/plain": [
       "          No HPO  Yes HPO    sum\n",
       "No GWAS    16910      622  17532\n",
       "Yes GWAS     463       34    497\n",
       "sum        17373      656  18029"
      ]
     },
     "execution_count": 94,
     "metadata": {},
     "output_type": "execute_result"
    }
   ],
   "source": [
    "print(f\"Total overlap = {total_overlap}\")\n",
    "metrix = pd.DataFrame({\"No HPO\": [tl, bl, tl + bl], \"Yes HPO\": [tr, br, tr + br],\n",
    "                      \"sum\": [tl + tr, bl + br, total]})\n",
    "metrix.index = [\"No GWAS\", \"Yes GWAS\", \"sum\"]\n",
    "metrix"
   ]
  },
  {
   "cell_type": "code",
   "execution_count": 49,
   "id": "da7746b4",
   "metadata": {},
   "outputs": [
    {
     "data": {
      "text/plain": [
       "array([[16910,   622, 17532],\n",
       "       [  463,    34,   497],\n",
       "       [17373,   656, 18029]], dtype=int64)"
      ]
     },
     "execution_count": 49,
     "metadata": {},
     "output_type": "execute_result"
    }
   ],
   "source": [
    "metrix.values"
   ]
  },
  {
   "cell_type": "code",
   "execution_count": 50,
   "id": "135f7447",
   "metadata": {
    "scrolled": true
   },
   "outputs": [
    {
     "name": "stdout",
     "output_type": "stream",
     "text": [
      "(1.9964164924683838, 0.0005541807907934105)\n"
     ]
    }
   ],
   "source": [
    "import scipy.stats as stats\n",
    "\n",
    "# link: https://www.statology.org/fishers-exact-test-python/\n",
    "\n",
    "fish_data = metrix.iloc[0:2, 0:2].values\n",
    "\n",
    "print(stats.fisher_exact(fish_data))"
   ]
  },
  {
   "cell_type": "code",
   "execution_count": 14,
   "id": "a3b315a7",
   "metadata": {},
   "outputs": [
    {
     "data": {
      "image/png": "[encoded data removed]",
      "text/plain": [
       "<Figure size 432x288 with 1 Axes>"
      ]
     },
     "metadata": {},
     "output_type": "display_data"
    }
   ],
   "source": [
    "ax = plt.gca()\n",
    "labels = ['PoPS genes', 'HPO genes']\n",
    "\n",
    "v = venn2(subsets = (500, 656, 34), \n",
    "          set_labels=(labels),\n",
    "          set_colors=('white', 'teal'), alpha=0.7)\n",
    "v.get_patch_by_id('10').set_alpha(0.3)\n",
    "v.get_patch_by_id('11').set_alpha(0.3)\n",
    "v.get_patch_by_id('01').set_alpha(0.3)\n",
    "\n",
    "v.get_label_by_id('10').set_fontsize(14)\n",
    "v.get_label_by_id('11').set_fontsize(14)\n",
    "\n",
    "text2 = 'HPO prostate genes/n'+ v.get_label_by_id('01').get_text()\n",
    "v.get_label_by_id('01').set_fontsize(16)\n",
    "\n",
    "venn2_circles(subsets=(500, 656, 34), linewidth=1)\n",
    "\n",
    "plt.show()\n"
   ]
  },
  {
   "cell_type": "markdown",
   "id": "554aa4f8",
   "metadata": {},
   "source": [
    "### Calculating precision and recall for IBD"
   ]
  },
  {
   "cell_type": "code",
   "execution_count": 28,
   "id": "f6dc97dc",
   "metadata": {},
   "outputs": [],
   "source": [
    "TP= 34\n",
    "TN = 16907\n",
    "FP= 466\n",
    "FN= 622\n",
    "precision = (TP / (TP + FP))\n",
    "recall = (TP / (TP + FN))"
   ]
  },
  {
   "cell_type": "code",
   "execution_count": 31,
   "id": "c19572a2",
   "metadata": {},
   "outputs": [
    {
     "name": "stdout",
     "output_type": "stream",
     "text": [
      "precision for IBD: 0.07\n"
     ]
    }
   ],
   "source": [
    "print(f\"precision for IBD: {precision:.2f}\")"
   ]
  },
  {
   "cell_type": "code",
   "execution_count": 32,
   "id": "9a1f0f8e",
   "metadata": {},
   "outputs": [
    {
     "name": "stdout",
     "output_type": "stream",
     "text": [
      "rcall for height: 0.05\n"
     ]
    }
   ],
   "source": [
    "print(f\"rcall for height: {recall:.2f}\")"
   ]
  },
  {
   "cell_type": "markdown",
   "id": "090e6790",
   "metadata": {},
   "source": [
    "## Loading prstcan dataset"
   ]
  },
  {
   "cell_type": "code",
   "execution_count": 33,
   "id": "f3653297",
   "metadata": {},
   "outputs": [],
   "source": [
    "#making a config file: \n",
    "\n",
    "file = config['PrC']\n",
    "\n",
    "data_PrC = pd.read_csv(file, sep=\"\\t\")"
   ]
  },
  {
   "cell_type": "code",
   "execution_count": 34,
   "id": "5f1c6430",
   "metadata": {},
   "outputs": [
    {
     "data": {
      "text/html": [
       "<div>\n",
       "<style scoped>\n",
       "    .dataframe tbody tr th:only-of-type {\n",
       "        vertical-align: middle;\n",
       "    }\n",
       "\n",
       "    .dataframe tbody tr th {\n",
       "        vertical-align: top;\n",
       "    }\n",
       "\n",
       "    .dataframe thead th {\n",
       "        text-align: right;\n",
       "    }\n",
       "</style>\n",
       "<table border=\"1\" class=\"dataframe\">\n",
       "  <thead>\n",
       "    <tr style=\"text-align: right;\">\n",
       "      <th></th>\n",
       "      <th>ENSGID</th>\n",
       "      <th>PoPS_Score</th>\n",
       "      <th>Y</th>\n",
       "      <th>Y_proj</th>\n",
       "      <th>project_out_covariates_gene</th>\n",
       "      <th>feature_selection_gene</th>\n",
       "      <th>training_gene</th>\n",
       "    </tr>\n",
       "  </thead>\n",
       "  <tbody>\n",
       "    <tr>\n",
       "      <th>0</th>\n",
       "      <td>ENSG00000186092</td>\n",
       "      <td>-0.215195</td>\n",
       "      <td>NaN</td>\n",
       "      <td>NaN</td>\n",
       "      <td>False</td>\n",
       "      <td>False</td>\n",
       "      <td>False</td>\n",
       "    </tr>\n",
       "    <tr>\n",
       "      <th>1</th>\n",
       "      <td>ENSG00000235249</td>\n",
       "      <td>-0.140573</td>\n",
       "      <td>NaN</td>\n",
       "      <td>NaN</td>\n",
       "      <td>False</td>\n",
       "      <td>False</td>\n",
       "      <td>False</td>\n",
       "    </tr>\n",
       "    <tr>\n",
       "      <th>2</th>\n",
       "      <td>ENSG00000185097</td>\n",
       "      <td>-0.141644</td>\n",
       "      <td>NaN</td>\n",
       "      <td>NaN</td>\n",
       "      <td>False</td>\n",
       "      <td>False</td>\n",
       "      <td>False</td>\n",
       "    </tr>\n",
       "    <tr>\n",
       "      <th>3</th>\n",
       "      <td>ENSG00000187634</td>\n",
       "      <td>0.339971</td>\n",
       "      <td>-0.21836</td>\n",
       "      <td>-0.705876</td>\n",
       "      <td>True</td>\n",
       "      <td>True</td>\n",
       "      <td>True</td>\n",
       "    </tr>\n",
       "    <tr>\n",
       "      <th>4</th>\n",
       "      <td>ENSG00000188976</td>\n",
       "      <td>0.228225</td>\n",
       "      <td>-0.98012</td>\n",
       "      <td>-1.426441</td>\n",
       "      <td>True</td>\n",
       "      <td>True</td>\n",
       "      <td>True</td>\n",
       "    </tr>\n",
       "    <tr>\n",
       "      <th>...</th>\n",
       "      <td>...</td>\n",
       "      <td>...</td>\n",
       "      <td>...</td>\n",
       "      <td>...</td>\n",
       "      <td>...</td>\n",
       "      <td>...</td>\n",
       "      <td>...</td>\n",
       "    </tr>\n",
       "    <tr>\n",
       "      <th>18378</th>\n",
       "      <td>ENSG00000165724</td>\n",
       "      <td>0.654544</td>\n",
       "      <td>1.02330</td>\n",
       "      <td>0.613378</td>\n",
       "      <td>True</td>\n",
       "      <td>True</td>\n",
       "      <td>True</td>\n",
       "    </tr>\n",
       "    <tr>\n",
       "      <th>18379</th>\n",
       "      <td>ENSG00000197070</td>\n",
       "      <td>0.436574</td>\n",
       "      <td>0.63634</td>\n",
       "      <td>0.219335</td>\n",
       "      <td>True</td>\n",
       "      <td>True</td>\n",
       "      <td>True</td>\n",
       "    </tr>\n",
       "    <tr>\n",
       "      <th>18380</th>\n",
       "      <td>ENSG00000203993</td>\n",
       "      <td>-0.096967</td>\n",
       "      <td>0.61827</td>\n",
       "      <td>0.357277</td>\n",
       "      <td>True</td>\n",
       "      <td>True</td>\n",
       "      <td>True</td>\n",
       "    </tr>\n",
       "    <tr>\n",
       "      <th>18381</th>\n",
       "      <td>ENSG00000181090</td>\n",
       "      <td>0.553572</td>\n",
       "      <td>-0.88512</td>\n",
       "      <td>-1.418261</td>\n",
       "      <td>True</td>\n",
       "      <td>True</td>\n",
       "      <td>True</td>\n",
       "    </tr>\n",
       "    <tr>\n",
       "      <th>18382</th>\n",
       "      <td>ENSG00000148408</td>\n",
       "      <td>-0.263549</td>\n",
       "      <td>-0.75913</td>\n",
       "      <td>-1.277076</td>\n",
       "      <td>True</td>\n",
       "      <td>True</td>\n",
       "      <td>True</td>\n",
       "    </tr>\n",
       "  </tbody>\n",
       "</table>\n",
       "<p>18383 rows × 7 columns</p>\n",
       "</div>"
      ],
      "text/plain": [
       "                ENSGID  PoPS_Score        Y    Y_proj  \\\n",
       "0      ENSG00000186092   -0.215195      NaN       NaN   \n",
       "1      ENSG00000235249   -0.140573      NaN       NaN   \n",
       "2      ENSG00000185097   -0.141644      NaN       NaN   \n",
       "3      ENSG00000187634    0.339971 -0.21836 -0.705876   \n",
       "4      ENSG00000188976    0.228225 -0.98012 -1.426441   \n",
       "...                ...         ...      ...       ...   \n",
       "18378  ENSG00000165724    0.654544  1.02330  0.613378   \n",
       "18379  ENSG00000197070    0.436574  0.63634  0.219335   \n",
       "18380  ENSG00000203993   -0.096967  0.61827  0.357277   \n",
       "18381  ENSG00000181090    0.553572 -0.88512 -1.418261   \n",
       "18382  ENSG00000148408   -0.263549 -0.75913 -1.277076   \n",
       "\n",
       "       project_out_covariates_gene  feature_selection_gene  training_gene  \n",
       "0                            False                   False          False  \n",
       "1                            False                   False          False  \n",
       "2                            False                   False          False  \n",
       "3                             True                    True           True  \n",
       "4                             True                    True           True  \n",
       "...                            ...                     ...            ...  \n",
       "18378                         True                    True           True  \n",
       "18379                         True                    True           True  \n",
       "18380                         True                    True           True  \n",
       "18381                         True                    True           True  \n",
       "18382                         True                    True           True  \n",
       "\n",
       "[18383 rows x 7 columns]"
      ]
     },
     "execution_count": 34,
     "metadata": {},
     "output_type": "execute_result"
    }
   ],
   "source": [
    "data_PrC"
   ]
  },
  {
   "cell_type": "code",
   "execution_count": 52,
   "id": "6d4b11d7",
   "metadata": {},
   "outputs": [],
   "source": [
    "pops_prc = data_PrC.sort_values(by = 'PoPS_Score', ascending = False)"
   ]
  },
  {
   "cell_type": "code",
   "execution_count": 53,
   "id": "f515652b",
   "metadata": {},
   "outputs": [
    {
     "data": {
      "text/html": [
       "<div>\n",
       "<style scoped>\n",
       "    .dataframe tbody tr th:only-of-type {\n",
       "        vertical-align: middle;\n",
       "    }\n",
       "\n",
       "    .dataframe tbody tr th {\n",
       "        vertical-align: top;\n",
       "    }\n",
       "\n",
       "    .dataframe thead th {\n",
       "        text-align: right;\n",
       "    }\n",
       "</style>\n",
       "<table border=\"1\" class=\"dataframe\">\n",
       "  <thead>\n",
       "    <tr style=\"text-align: right;\">\n",
       "      <th></th>\n",
       "      <th>ENSGID</th>\n",
       "      <th>PoPS_Score</th>\n",
       "      <th>Y</th>\n",
       "      <th>Y_proj</th>\n",
       "      <th>project_out_covariates_gene</th>\n",
       "      <th>feature_selection_gene</th>\n",
       "      <th>training_gene</th>\n",
       "    </tr>\n",
       "  </thead>\n",
       "  <tbody>\n",
       "    <tr>\n",
       "      <th>9414</th>\n",
       "      <td>ENSG00000167641</td>\n",
       "      <td>2.558283</td>\n",
       "      <td>7.7950</td>\n",
       "      <td>7.374111</td>\n",
       "      <td>True</td>\n",
       "      <td>True</td>\n",
       "      <td>True</td>\n",
       "    </tr>\n",
       "    <tr>\n",
       "      <th>10858</th>\n",
       "      <td>ENSG00000091409</td>\n",
       "      <td>2.536766</td>\n",
       "      <td>7.4419</td>\n",
       "      <td>6.906221</td>\n",
       "      <td>True</td>\n",
       "      <td>True</td>\n",
       "      <td>True</td>\n",
       "    </tr>\n",
       "    <tr>\n",
       "      <th>14414</th>\n",
       "      <td>ENSG00000268942</td>\n",
       "      <td>2.406746</td>\n",
       "      <td>NaN</td>\n",
       "      <td>NaN</td>\n",
       "      <td>False</td>\n",
       "      <td>False</td>\n",
       "      <td>False</td>\n",
       "    </tr>\n",
       "    <tr>\n",
       "      <th>1261</th>\n",
       "      <td>ENSG00000173207</td>\n",
       "      <td>2.387875</td>\n",
       "      <td>4.7416</td>\n",
       "      <td>4.417603</td>\n",
       "      <td>True</td>\n",
       "      <td>True</td>\n",
       "      <td>True</td>\n",
       "    </tr>\n",
       "    <tr>\n",
       "      <th>11057</th>\n",
       "      <td>ENSG00000115457</td>\n",
       "      <td>2.200671</td>\n",
       "      <td>2.6117</td>\n",
       "      <td>2.144064</td>\n",
       "      <td>True</td>\n",
       "      <td>True</td>\n",
       "      <td>True</td>\n",
       "    </tr>\n",
       "  </tbody>\n",
       "</table>\n",
       "</div>"
      ],
      "text/plain": [
       "                ENSGID  PoPS_Score       Y    Y_proj  \\\n",
       "9414   ENSG00000167641    2.558283  7.7950  7.374111   \n",
       "10858  ENSG00000091409    2.536766  7.4419  6.906221   \n",
       "14414  ENSG00000268942    2.406746     NaN       NaN   \n",
       "1261   ENSG00000173207    2.387875  4.7416  4.417603   \n",
       "11057  ENSG00000115457    2.200671  2.6117  2.144064   \n",
       "\n",
       "       project_out_covariates_gene  feature_selection_gene  training_gene  \n",
       "9414                          True                    True           True  \n",
       "10858                         True                    True           True  \n",
       "14414                        False                   False          False  \n",
       "1261                          True                    True           True  \n",
       "11057                         True                    True           True  "
      ]
     },
     "execution_count": 53,
     "metadata": {},
     "output_type": "execute_result"
    }
   ],
   "source": [
    "pops_prc.head(5)"
   ]
  },
  {
   "cell_type": "code",
   "execution_count": 54,
   "id": "edd127f0",
   "metadata": {},
   "outputs": [
    {
     "data": {
      "text/plain": [
       "array(['ENSG00000167641', 'ENSG00000091409', 'ENSG00000268942', ...,\n",
       "       'ENSG00000038945', 'ENSG00000067082', 'ENSG00000082438'],\n",
       "      dtype=object)"
      ]
     },
     "execution_count": 54,
     "metadata": {},
     "output_type": "execute_result"
    }
   ],
   "source": [
    "pops_prc_ids = pops_prc.ENSGID.values\n",
    "pops_prc_ids"
   ]
  },
  {
   "cell_type": "code",
   "execution_count": 55,
   "id": "58f7b52f",
   "metadata": {},
   "outputs": [
    {
     "data": {
      "text/plain": [
       "18383"
      ]
     },
     "execution_count": 55,
     "metadata": {},
     "output_type": "execute_result"
    }
   ],
   "source": [
    "pops_prc.ENSGID.nunique()"
   ]
  },
  {
   "cell_type": "markdown",
   "id": "f31395d9",
   "metadata": {},
   "source": [
    "## Genes Overlapping pops and HPO for prstcan"
   ]
  },
  {
   "cell_type": "code",
   "execution_count": 56,
   "id": "406271d8",
   "metadata": {},
   "outputs": [
    {
     "name": "stdout",
     "output_type": "stream",
     "text": [
      "Number of ibd overlapping genes: 18029\n"
     ]
    }
   ],
   "source": [
    "overlapping_genes_prc = data[data.index.isin(pops_prc_ids)]\n",
    "#print(overlapping_genes.index)\n",
    "overlapping_genes = overlapping_genes_prc.index\n",
    "total_overlap = overlapping_genes.shape[0]\n",
    "print(f\"Number of ibd overlapping genes: {total_overlap}\")\n"
   ]
  },
  {
   "cell_type": "markdown",
   "id": "4840f3b0",
   "metadata": {},
   "source": [
    "## Take the Significant genes from pops¶"
   ]
  },
  {
   "cell_type": "code",
   "execution_count": 57,
   "id": "e8f003b1",
   "metadata": {},
   "outputs": [
    {
     "data": {
      "text/html": [
       "<div>\n",
       "<style scoped>\n",
       "    .dataframe tbody tr th:only-of-type {\n",
       "        vertical-align: middle;\n",
       "    }\n",
       "\n",
       "    .dataframe tbody tr th {\n",
       "        vertical-align: top;\n",
       "    }\n",
       "\n",
       "    .dataframe thead th {\n",
       "        text-align: right;\n",
       "    }\n",
       "</style>\n",
       "<table border=\"1\" class=\"dataframe\">\n",
       "  <thead>\n",
       "    <tr style=\"text-align: right;\">\n",
       "      <th></th>\n",
       "      <th>ENSGID</th>\n",
       "      <th>PoPS_Score</th>\n",
       "      <th>Y</th>\n",
       "      <th>Y_proj</th>\n",
       "      <th>project_out_covariates_gene</th>\n",
       "      <th>feature_selection_gene</th>\n",
       "      <th>training_gene</th>\n",
       "    </tr>\n",
       "  </thead>\n",
       "  <tbody>\n",
       "    <tr>\n",
       "      <th>9414</th>\n",
       "      <td>ENSG00000167641</td>\n",
       "      <td>2.558283</td>\n",
       "      <td>7.7950</td>\n",
       "      <td>7.374111</td>\n",
       "      <td>True</td>\n",
       "      <td>True</td>\n",
       "      <td>True</td>\n",
       "    </tr>\n",
       "    <tr>\n",
       "      <th>10858</th>\n",
       "      <td>ENSG00000091409</td>\n",
       "      <td>2.536766</td>\n",
       "      <td>7.4419</td>\n",
       "      <td>6.906221</td>\n",
       "      <td>True</td>\n",
       "      <td>True</td>\n",
       "      <td>True</td>\n",
       "    </tr>\n",
       "    <tr>\n",
       "      <th>14414</th>\n",
       "      <td>ENSG00000268942</td>\n",
       "      <td>2.406746</td>\n",
       "      <td>NaN</td>\n",
       "      <td>NaN</td>\n",
       "      <td>False</td>\n",
       "      <td>False</td>\n",
       "      <td>False</td>\n",
       "    </tr>\n",
       "    <tr>\n",
       "      <th>1261</th>\n",
       "      <td>ENSG00000173207</td>\n",
       "      <td>2.387875</td>\n",
       "      <td>4.7416</td>\n",
       "      <td>4.417603</td>\n",
       "      <td>True</td>\n",
       "      <td>True</td>\n",
       "      <td>True</td>\n",
       "    </tr>\n",
       "    <tr>\n",
       "      <th>11057</th>\n",
       "      <td>ENSG00000115457</td>\n",
       "      <td>2.200671</td>\n",
       "      <td>2.6117</td>\n",
       "      <td>2.144064</td>\n",
       "      <td>True</td>\n",
       "      <td>True</td>\n",
       "      <td>True</td>\n",
       "    </tr>\n",
       "    <tr>\n",
       "      <th>...</th>\n",
       "      <td>...</td>\n",
       "      <td>...</td>\n",
       "      <td>...</td>\n",
       "      <td>...</td>\n",
       "      <td>...</td>\n",
       "      <td>...</td>\n",
       "      <td>...</td>\n",
       "    </tr>\n",
       "    <tr>\n",
       "      <th>4758</th>\n",
       "      <td>ENSG00000136044</td>\n",
       "      <td>0.620650</td>\n",
       "      <td>NaN</td>\n",
       "      <td>NaN</td>\n",
       "      <td>False</td>\n",
       "      <td>False</td>\n",
       "      <td>False</td>\n",
       "    </tr>\n",
       "    <tr>\n",
       "      <th>14334</th>\n",
       "      <td>ENSG00000113594</td>\n",
       "      <td>0.620154</td>\n",
       "      <td>NaN</td>\n",
       "      <td>NaN</td>\n",
       "      <td>False</td>\n",
       "      <td>False</td>\n",
       "      <td>False</td>\n",
       "    </tr>\n",
       "    <tr>\n",
       "      <th>16568</th>\n",
       "      <td>ENSG00000166508</td>\n",
       "      <td>0.620143</td>\n",
       "      <td>0.8004</td>\n",
       "      <td>0.366044</td>\n",
       "      <td>True</td>\n",
       "      <td>True</td>\n",
       "      <td>True</td>\n",
       "    </tr>\n",
       "    <tr>\n",
       "      <th>10861</th>\n",
       "      <td>ENSG00000091436</td>\n",
       "      <td>0.619890</td>\n",
       "      <td>1.1292</td>\n",
       "      <td>0.585160</td>\n",
       "      <td>True</td>\n",
       "      <td>True</td>\n",
       "      <td>True</td>\n",
       "    </tr>\n",
       "    <tr>\n",
       "      <th>9073</th>\n",
       "      <td>ENSG00000008441</td>\n",
       "      <td>0.619742</td>\n",
       "      <td>1.6674</td>\n",
       "      <td>1.163845</td>\n",
       "      <td>True</td>\n",
       "      <td>True</td>\n",
       "      <td>True</td>\n",
       "    </tr>\n",
       "  </tbody>\n",
       "</table>\n",
       "<p>500 rows × 7 columns</p>\n",
       "</div>"
      ],
      "text/plain": [
       "                ENSGID  PoPS_Score       Y    Y_proj  \\\n",
       "9414   ENSG00000167641    2.558283  7.7950  7.374111   \n",
       "10858  ENSG00000091409    2.536766  7.4419  6.906221   \n",
       "14414  ENSG00000268942    2.406746     NaN       NaN   \n",
       "1261   ENSG00000173207    2.387875  4.7416  4.417603   \n",
       "11057  ENSG00000115457    2.200671  2.6117  2.144064   \n",
       "...                ...         ...     ...       ...   \n",
       "4758   ENSG00000136044    0.620650     NaN       NaN   \n",
       "14334  ENSG00000113594    0.620154     NaN       NaN   \n",
       "16568  ENSG00000166508    0.620143  0.8004  0.366044   \n",
       "10861  ENSG00000091436    0.619890  1.1292  0.585160   \n",
       "9073   ENSG00000008441    0.619742  1.6674  1.163845   \n",
       "\n",
       "       project_out_covariates_gene  feature_selection_gene  training_gene  \n",
       "9414                          True                    True           True  \n",
       "10858                         True                    True           True  \n",
       "14414                        False                   False          False  \n",
       "1261                          True                    True           True  \n",
       "11057                         True                    True           True  \n",
       "...                            ...                     ...            ...  \n",
       "4758                         False                   False          False  \n",
       "14334                        False                   False          False  \n",
       "16568                         True                    True           True  \n",
       "10861                         True                    True           True  \n",
       "9073                          True                    True           True  \n",
       "\n",
       "[500 rows x 7 columns]"
      ]
     },
     "execution_count": 57,
     "metadata": {},
     "output_type": "execute_result"
    }
   ],
   "source": [
    "significant_prc = pops_prc.iloc[:500]\n",
    "significant_prc"
   ]
  },
  {
   "cell_type": "code",
   "execution_count": 58,
   "id": "ff546e92",
   "metadata": {},
   "outputs": [
    {
     "data": {
      "text/plain": [
       "18383"
      ]
     },
     "execution_count": 58,
     "metadata": {},
     "output_type": "execute_result"
    }
   ],
   "source": [
    "pops_prc.ENSGID.nunique()"
   ]
  },
  {
   "cell_type": "code",
   "execution_count": 59,
   "id": "a68e2247",
   "metadata": {},
   "outputs": [
    {
     "name": "stdout",
     "output_type": "stream",
     "text": [
      "Total number of significant pops genes: 500\n"
     ]
    }
   ],
   "source": [
    "significant_prc_genes = significant_prc.ENSGID\n",
    "total_significant_genes = significant_prc.shape[0]\n",
    "print(f\"Total number of significant pops genes: {total_significant_genes}\")"
   ]
  },
  {
   "cell_type": "markdown",
   "id": "aeae593c",
   "metadata": {},
   "source": [
    "## Take the Relevant HPO genes"
   ]
  },
  {
   "cell_type": "code",
   "execution_count": 60,
   "id": "db6cc704",
   "metadata": {},
   "outputs": [
    {
     "name": "stdout",
     "output_type": "stream",
     "text": [
      "-\n",
      "ENSG00000000419    1.0\n",
      "ENSG00000001626    1.0\n",
      "ENSG00000001631    1.0\n",
      "ENSG00000003400    1.0\n",
      "ENSG00000004864    1.0\n",
      "                  ... \n",
      "ENSG00000256269    1.0\n",
      "ENSG00000258366    1.0\n",
      "ENSG00000258839    1.0\n",
      "ENSG00000265817    1.0\n",
      "ENSG00000272047    1.0\n",
      "Name: HP:0002664, Length: 655, dtype: float64\n",
      "Number of HPO height genes: 655\n"
     ]
    }
   ],
   "source": [
    "prc_HPO = 'HP:0002664'\n",
    "\n",
    "hpo_term_data = overlapping_genes_prc.loc[overlapping_genes_prc[prc_HPO] == 1, prc_HPO]\n",
    "print(hpo_term_data)\n",
    "hpo_term_genes = hpo_term_data.index\n",
    "total_hpo_term_genes = hpo_term_data.shape[0]\n",
    "print(f\"Number of HPO height genes: {total_hpo_term_genes}\")"
   ]
  },
  {
   "cell_type": "code",
   "execution_count": 61,
   "id": "8b1326ba",
   "metadata": {},
   "outputs": [
    {
     "data": {
      "text/plain": [
       "16909"
      ]
     },
     "execution_count": 61,
     "metadata": {},
     "output_type": "execute_result"
    }
   ],
   "source": [
    "# Not in HPO height and not in GWAS\n",
    "tl = overlapping_genes[~overlapping_genes.isin(significant_prc_genes) & ~overlapping_genes.isin(hpo_term_genes)].shape[0]\n",
    "tl"
   ]
  },
  {
   "cell_type": "code",
   "execution_count": 62,
   "id": "c69d51a6",
   "metadata": {},
   "outputs": [
    {
     "data": {
      "text/plain": [
       "465"
      ]
     },
     "execution_count": 62,
     "metadata": {},
     "output_type": "execute_result"
    }
   ],
   "source": [
    "# In GWAS but not in HPO height\n",
    "bl = overlapping_genes[overlapping_genes.isin(significant_prc_genes) & ~overlapping_genes.isin(hpo_term_genes)].shape[0]\n",
    "bl"
   ]
  },
  {
   "cell_type": "code",
   "execution_count": 63,
   "id": "2b7e4d3b",
   "metadata": {},
   "outputs": [
    {
     "data": {
      "text/plain": [
       "620"
      ]
     },
     "execution_count": 63,
     "metadata": {},
     "output_type": "execute_result"
    }
   ],
   "source": [
    "# Not in GWAS but IN HPO height\n",
    "tr = overlapping_genes[~overlapping_genes.isin(significant_prc_genes) & overlapping_genes.isin(hpo_term_genes)].shape[0]\n",
    "tr"
   ]
  },
  {
   "cell_type": "code",
   "execution_count": 64,
   "id": "7271c5bf",
   "metadata": {},
   "outputs": [
    {
     "data": {
      "text/plain": [
       "35"
      ]
     },
     "execution_count": 64,
     "metadata": {},
     "output_type": "execute_result"
    }
   ],
   "source": [
    "# in GWAS and in HPO height\n",
    "br = overlapping_genes[overlapping_genes.isin(significant_prc_genes) & overlapping_genes.isin(hpo_term_genes)].shape[0]\n",
    "br"
   ]
  },
  {
   "cell_type": "code",
   "execution_count": 65,
   "id": "d69e3baa",
   "metadata": {},
   "outputs": [
    {
     "name": "stdout",
     "output_type": "stream",
     "text": [
      "Overlap key genes with HPO: 7.00%\n"
     ]
    }
   ],
   "source": [
    "overlap_key_genes = (br * 100) / total_significant_genes\n",
    "print(f\"Overlap key genes with HPO: {overlap_key_genes:.2f}%\")"
   ]
  },
  {
   "cell_type": "code",
   "execution_count": 66,
   "id": "063416ff",
   "metadata": {},
   "outputs": [
    {
     "data": {
      "text/plain": [
       "18029"
      ]
     },
     "execution_count": 66,
     "metadata": {},
     "output_type": "execute_result"
    }
   ],
   "source": [
    "total = tl + bl + tr + br\n",
    "total"
   ]
  },
  {
   "cell_type": "code",
   "execution_count": 67,
   "id": "082e78a2",
   "metadata": {
    "scrolled": true
   },
   "outputs": [
    {
     "name": "stdout",
     "output_type": "stream",
     "text": [
      "Total overlap = 18029\n"
     ]
    },
    {
     "data": {
      "text/html": [
       "<div>\n",
       "<style scoped>\n",
       "    .dataframe tbody tr th:only-of-type {\n",
       "        vertical-align: middle;\n",
       "    }\n",
       "\n",
       "    .dataframe tbody tr th {\n",
       "        vertical-align: top;\n",
       "    }\n",
       "\n",
       "    .dataframe thead th {\n",
       "        text-align: right;\n",
       "    }\n",
       "</style>\n",
       "<table border=\"1\" class=\"dataframe\">\n",
       "  <thead>\n",
       "    <tr style=\"text-align: right;\">\n",
       "      <th></th>\n",
       "      <th>No HPO</th>\n",
       "      <th>Yes HPO</th>\n",
       "      <th>sum</th>\n",
       "    </tr>\n",
       "  </thead>\n",
       "  <tbody>\n",
       "    <tr>\n",
       "      <th>No GWAS</th>\n",
       "      <td>16909</td>\n",
       "      <td>620</td>\n",
       "      <td>17529</td>\n",
       "    </tr>\n",
       "    <tr>\n",
       "      <th>Yes GWAS</th>\n",
       "      <td>465</td>\n",
       "      <td>35</td>\n",
       "      <td>500</td>\n",
       "    </tr>\n",
       "    <tr>\n",
       "      <th>sum</th>\n",
       "      <td>17374</td>\n",
       "      <td>655</td>\n",
       "      <td>18029</td>\n",
       "    </tr>\n",
       "  </tbody>\n",
       "</table>\n",
       "</div>"
      ],
      "text/plain": [
       "          No HPO  Yes HPO    sum\n",
       "No GWAS    16909      620  17529\n",
       "Yes GWAS     465       35    500\n",
       "sum        17374      655  18029"
      ]
     },
     "execution_count": 67,
     "metadata": {},
     "output_type": "execute_result"
    }
   ],
   "source": [
    "print(f\"Total overlap = {total_overlap}\")\n",
    "metrix = pd.DataFrame({\"No HPO\": [tl, bl, tl + bl], \"Yes HPO\": [tr, br, tr + br],\n",
    "                      \"sum\": [tl + tr, bl + br, total]})\n",
    "metrix.index = [\"No GWAS\", \"Yes GWAS\", \"sum\"]\n",
    "metrix"
   ]
  },
  {
   "cell_type": "code",
   "execution_count": 68,
   "id": "418c3a54",
   "metadata": {},
   "outputs": [
    {
     "data": {
      "text/plain": [
       "array([[16909,   620, 17529],\n",
       "       [  465,    35,   500],\n",
       "       [17374,   655, 18029]], dtype=int64)"
      ]
     },
     "execution_count": 68,
     "metadata": {},
     "output_type": "execute_result"
    }
   ],
   "source": [
    "metrix.values"
   ]
  },
  {
   "cell_type": "code",
   "execution_count": 69,
   "id": "60920158",
   "metadata": {
    "scrolled": true
   },
   "outputs": [
    {
     "name": "stdout",
     "output_type": "stream",
     "text": [
      "(2.0527748872702047, 0.00022316338574356444)\n"
     ]
    }
   ],
   "source": [
    "import scipy.stats as stats\n",
    "\n",
    "# link: https://www.statology.org/fishers-exact-test-python/\n",
    "\n",
    "fish_data = metrix.iloc[0:2, 0:2].values\n",
    "\n",
    "print(stats.fisher_exact(fish_data))"
   ]
  },
  {
   "cell_type": "markdown",
   "id": "a5c75254",
   "metadata": {},
   "source": [
    "### ven diagram"
   ]
  },
  {
   "cell_type": "code",
   "execution_count": 12,
   "id": "823c1a1e",
   "metadata": {},
   "outputs": [
    {
     "data": {
      "image/png": "[encoded data removed]",
      "text/plain": [
       "<Figure size 432x288 with 1 Axes>"
      ]
     },
     "metadata": {},
     "output_type": "display_data"
    }
   ],
   "source": [
    "ax = plt.gca()\n",
    "labels = ['PoPS genes', 'HPO genes']\n",
    "\n",
    "v = venn2(subsets = (18383, 56435, 18029), \n",
    "          set_labels=(labels),\n",
    "          set_colors=('white', 'teal'), alpha=0.7)\n",
    "v.get_patch_by_id('10').set_alpha(0.2)\n",
    "v.get_patch_by_id('11').set_alpha(0.3)\n",
    "v.get_patch_by_id('01').set_alpha(0.3)\n",
    "\n",
    "v.get_label_by_id('10').set_fontsize(14)\n",
    "v.get_label_by_id('11').set_fontsize(14)\n",
    "\n",
    "\n",
    "text2 = 'HPO prostate genes/n'+ v.get_label_by_id('10').get_text()\n",
    "v.get_label_by_id('01').set_fontsize(16)\n",
    "\n",
    "venn2_circles(subsets=(18383, 56435, 18029), linewidth=1)\n",
    "\n",
    "plt.show()\n"
   ]
  },
  {
   "cell_type": "code",
   "execution_count": 13,
   "id": "aa3ad8f1",
   "metadata": {},
   "outputs": [
    {
     "data": {
      "image/png": "[encoded data removed]",
      "text/plain": [
       "<Figure size 432x288 with 1 Axes>"
      ]
     },
     "metadata": {},
     "output_type": "display_data"
    }
   ],
   "source": [
    "ax = plt.gca()\n",
    "labels = ['PoPS genes', 'HPO genes']\n",
    "\n",
    "v = venn2(subsets = (500, 655, 35), \n",
    "          set_labels=(labels),\n",
    "          set_colors=('white', 'teal'), alpha=0.7)\n",
    "v.get_patch_by_id('10').set_alpha(0.2)\n",
    "v.get_patch_by_id('11').set_alpha(0.3)\n",
    "v.get_patch_by_id('01').set_alpha(0.3)\n",
    "\n",
    "v.get_label_by_id('10').set_fontsize(14)\n",
    "v.get_label_by_id('11').set_fontsize(14)\n",
    "v.get_label_by_id('01').set_fontsize(16)\n",
    "\n",
    "text2 = 'HPO prostate genes/n'+ v.get_label_by_id('01').get_text()\n",
    "v.get_label_by_id('01').set_fontsize(16)\n",
    "\n",
    "venn2_circles(subsets=(500, 655, 35), linewidth=1)\n",
    "\n",
    "plt.show()\n"
   ]
  },
  {
   "cell_type": "markdown",
   "id": "da8bde0e",
   "metadata": {},
   "source": [
    "### caculating precision and recall for PrC"
   ]
  },
  {
   "cell_type": "code",
   "execution_count": null,
   "id": "e1d8b592",
   "metadata": {},
   "outputs": [],
   "source": [
    "TP= 35\n",
    "TN = 16909\n",
    "FP= 465\n",
    "FN= 620\n",
    "precision = (TP / (TP + FP))\n",
    "recall = (TP / (TP + FN))"
   ]
  },
  {
   "cell_type": "code",
   "execution_count": 37,
   "id": "121a4030",
   "metadata": {},
   "outputs": [
    {
     "name": "stdout",
     "output_type": "stream",
     "text": [
      "precision for PrC: 0.07\n"
     ]
    }
   ],
   "source": [
    "print(f\"precision for PrC: {precision:.2f}\")"
   ]
  },
  {
   "cell_type": "code",
   "execution_count": 38,
   "id": "2cb17f3d",
   "metadata": {},
   "outputs": [
    {
     "name": "stdout",
     "output_type": "stream",
     "text": [
      "recall for PrC: 0.05\n"
     ]
    }
   ],
   "source": [
    "print(f\"recall for PrC: {recall:.2f}\")"
   ]
  }
 ],
 "metadata": {
  "kernelspec": {
   "display_name": "Python 3 (ipykernel)",
   "language": "python",
   "name": "python3"
  },
  "language_info": {
   "codemirror_mode": {
    "name": "ipython",
    "version": 3
   },
   "file_extension": ".py",
   "mimetype": "text/x-python",
   "name": "python",
   "nbconvert_exporter": "python",
   "pygments_lexer": "ipython3",
   "version": "3.9.12"
  }
 },
 "nbformat": 4,
 "nbformat_minor": 5
}
