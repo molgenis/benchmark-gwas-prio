{
 "cells": [
  {
   "cell_type": "code",
   "execution_count": 4,
   "id": "4f46f3ff",
   "metadata": {},
   "outputs": [],
   "source": [
    "import pandas as pd\n",
    "import gzip"
   ]
  },
  {
   "cell_type": "code",
   "execution_count": 22,
   "id": "c3b9d395",
   "metadata": {},
   "outputs": [],
   "source": [
    "def prep_IBD_PC_for_plink(filepath):\n",
    "    \"\"\"\n",
    "    Function to prepare IBD (Inflammatory bowel disease) and PC (Prostate cancer) files\n",
    "    Only loads in the usefull columns\n",
    "    renames all columns so Plink will recognize them\n",
    "    \n",
    "    \"\"\"\n",
    "    col_list = [\"chromosome\", \"base_pair_location\", \"variant_id\", \"beta\", \"standard_error\", \"p_value\"]\n",
    "    if filepath.rsplit(\".\", 1)[1] == \"gz\":\n",
    "        with gzip.open(filepath, \"rb\") as f:\n",
    "            data = pd.read_csv(f, sep=\"\\s+\", usecols=col_list)\n",
    "    else:\n",
    "        data = pd.read_csv(filepath, sep=\"\\s+\", usecols=col_list)\n",
    "    \n",
    "    data = data.rename(columns={\"chromosome\":\"CHR\", \"base_pair_location\":\"POS\", \"variant_id\":\"SNP\", \"beta\":\"BETA\", \"standard_error\":\"SE\", \"p_value\":\"P\"})\n",
    "    file = filepath.split(\".\", 1)[0]\n",
    "    data.to_csv(file + \"_prepped.txt\", sep=\"\\t\", index=False)"
   ]
  },
  {
   "cell_type": "code",
   "execution_count": 15,
   "id": "eefe4552",
   "metadata": {},
   "outputs": [],
   "source": [
    "IBD = \"C:/Users/Pin/Desktop/Execute_methods/editsnpfiles/28067908-GCST004131-EFO_0003767.h.tsv.gz\"\n",
    "PC = \"C:/Users/Pin/Desktop/Execute_methods/editsnpfiles/29892016-GCST006085-EFO_0001663.h.tsv.gz\""
   ]
  },
  {
   "cell_type": "code",
   "execution_count": null,
   "id": "51056adf",
   "metadata": {},
   "outputs": [],
   "source": [
    "prep_IBD_PC_for_plink(IBD)\n",
    "prep_IBD_PC_for_plink(PC)"
   ]
  },
  {
   "cell_type": "markdown",
   "id": "a2f60bcc",
   "metadata": {},
   "source": [
    "IBD and PrC files are ran through Plink with the following flags:\n",
    "\n",
    "plink\n",
    "--bfile 1000G/1000G.EUR\n",
    "--clump filepath\n",
    "--clump-p1 5e-6\n",
    "--clump-r2 0.10\n",
    "--clump-kb 1000\n",
    "--out (file_name)_5e8_1000kb_r2_01\n",
    "\n",
    "Height file is ran through Plink with the following flags:\n",
    "\n",
    "plink\n",
    "--bfile 1000G/1000G.EUR\n",
    "--clump filepath\n",
    "--clump-p1 5e-8\n",
    "--clump-r2 0.10\n",
    "--clump-kb 1000\n",
    "--out (file_name)_5e8_1000kb_r2_01"
   ]
  },
  {
   "cell_type": "code",
   "execution_count": 2,
   "id": "d79bc566",
   "metadata": {},
   "outputs": [],
   "source": [
    "def prep_for_depict(filepath):\n",
    "    \"\"\"\n",
    "    Removes all columns except SNP. this is needed for Depict\n",
    "    run for IBD, PC, and Height file\n",
    "    \"\"\"\n",
    "    data = pd.read_csv(filepath, sep=\"\\s+\")\n",
    "    data = data[\"SNP\"]\n",
    "    file = filepath.split(\".\", 1)[0]\n",
    "    data.to_csv(file + \"_prepped4depict.txt\", sep=\"\\t\", index=False, header=False)"
   ]
  },
  {
   "cell_type": "code",
   "execution_count": 38,
   "id": "ae1e9682",
   "metadata": {},
   "outputs": [],
   "source": [
    "def resample_Height(filepath):\n",
    "    \"\"\"\n",
    "    The Height SNP file is too large for Depict.\n",
    "    Therefor it was found it could not have more than 200 SNP's\n",
    "    Takes 200 random SNP's from Height file to use in Depict and saves this to Height_200.txt\n",
    "    \"\"\"\n",
    "    data = pd.read_csv(filepath, sep=\"\\t\")\n",
    "    data = data.sample(n=200, axis=0)\n",
    "    path = filepath.rsplit(\"/\", 1)[0]\n",
    "    if path == filepath:\n",
    "        path = \"\"\n",
    "    data.to_csv(path + \"/Height_200.txt\", sep=\"\\t\", index=False, header=False)"
   ]
  },
  {
   "cell_type": "code",
   "execution_count": 1,
   "id": "ff567685",
   "metadata": {},
   "outputs": [],
   "source": [
    "IBD2 = \"IBD_5e6_1000kb_r2_01.clumped\"\n",
    "PC2 = \"PC_5e6_1000kb_r2_01.clumped\"\n",
    "Height = \"Height_5e8_1000kb_r2_01.clumped\""
   ]
  },
  {
   "cell_type": "code",
   "execution_count": 5,
   "id": "8c1b36c2",
   "metadata": {},
   "outputs": [],
   "source": [
    "prep_for_depict(IBD2)\n",
    "prep_for_depict(PC2)\n",
    "prep_for_depict(Height)"
   ]
  },
  {
   "cell_type": "code",
   "execution_count": 19,
   "id": "ad6bb7ec",
   "metadata": {},
   "outputs": [],
   "source": [
    "Height2 = \"Height_5e8_1000kb_r2_01_prepped4depict.txt\""
   ]
  },
  {
   "cell_type": "code",
   "execution_count": null,
   "id": "8c377fe8",
   "metadata": {},
   "outputs": [],
   "source": [
    "resample_Height(Height2)"
   ]
  }
 ],
 "metadata": {
  "kernelspec": {
   "display_name": "Python 3 (ipykernel)",
   "language": "python",
   "name": "python3"
  },
  "language_info": {
   "codemirror_mode": {
    "name": "ipython",
    "version": 3
   },
   "file_extension": ".py",
   "mimetype": "text/x-python",
   "name": "python",
   "nbconvert_exporter": "python",
   "pygments_lexer": "ipython3",
   "version": "3.9.7"
  }
 },
 "nbformat": 4,
 "nbformat_minor": 5
}
